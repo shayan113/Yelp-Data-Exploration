{
 "cells": [
  {
   "cell_type": "code",
   "execution_count": 56,
   "metadata": {},
   "outputs": [],
   "source": [
    "# package imports\n",
    "#basics\n",
    "import numpy as np\n",
    "import pandas as pd\n",
    "import ast\n",
    "\n",
    "#misc\n",
    "import gc\n",
    "import time\n",
    "import warnings\n",
    "\n",
    "\n",
    "#viz\n",
    "import matplotlib.pyplot as plt\n",
    "import seaborn as sns \n",
    "import matplotlib.gridspec as gridspec \n",
    "import matplotlib.gridspec as gridspec \n",
    "\n",
    "#settings\n",
    "start_time=time.time()\n",
    "color = sns.color_palette()\n",
    "sns.set_style(\"dark\")\n",
    "import re\n",
    "\n",
    "import warnings\n",
    "warnings.filterwarnings(\"ignore\")\n",
    "\n",
    "from sklearn.linear_model import ElasticNet, Lasso,  BayesianRidge, LassoLarsIC\n",
    "from sklearn.ensemble import RandomForestRegressor,  GradientBoostingRegressor\n",
    "\n",
    "from sklearn.pipeline import make_pipeline\n",
    "from sklearn.preprocessing import RobustScaler\n",
    "from sklearn.base import BaseEstimator, TransformerMixin, RegressorMixin, clone\n",
    "from sklearn.model_selection import KFold, cross_val_score, train_test_split\n",
    "from sklearn.metrics import mean_squared_error\n",
    "import xgboost as xgb\n",
    "from xgboost.sklearn import XGBRegressor\n",
    "from sklearn.grid_search import GridSearchCV\n",
    "\n",
    "from matplotlib.pylab import rcParams\n",
    "rcParams['figure.figsize'] = 12, 4\n",
    "from sklearn.metrics import mean_absolute_error\n",
    "from sklearn.metrics import fbeta_score, make_scorer\n",
    "from sklearn.metrics import mean_squared_error\n",
    "from math import sqrt\n",
    "\n",
    "%matplotlib inline"
   ]
  },
  {
   "cell_type": "code",
   "execution_count": 2,
   "metadata": {},
   "outputs": [
    {
     "name": "stdout",
     "output_type": "stream",
     "text": [
      "Took 2.258465051651001 s\n"
     ]
    }
   ],
   "source": [
    "#importing business dataset\n",
    "business=pd.read_csv(\"yelp_academic_dataset_business.csv\")\n",
    "end_time=time.time()\n",
    "print(\"Took\",end_time-start_time,\"s\")"
   ]
  },
  {
   "cell_type": "code",
   "execution_count": 3,
   "metadata": {
    "scrolled": true
   },
   "outputs": [
    {
     "data": {
      "text/html": [
       "<div>\n",
       "<style scoped>\n",
       "    .dataframe tbody tr th:only-of-type {\n",
       "        vertical-align: middle;\n",
       "    }\n",
       "\n",
       "    .dataframe tbody tr th {\n",
       "        vertical-align: top;\n",
       "    }\n",
       "\n",
       "    .dataframe thead th {\n",
       "        text-align: right;\n",
       "    }\n",
       "</style>\n",
       "<table border=\"1\" class=\"dataframe\">\n",
       "  <thead>\n",
       "    <tr style=\"text-align: right;\">\n",
       "      <th></th>\n",
       "      <th>address</th>\n",
       "      <th>attributes</th>\n",
       "      <th>attributes.AcceptsInsurance</th>\n",
       "      <th>attributes.AgesAllowed</th>\n",
       "      <th>attributes.Alcohol</th>\n",
       "      <th>attributes.Ambience</th>\n",
       "      <th>attributes.BYOB</th>\n",
       "      <th>attributes.BYOBCorkage</th>\n",
       "      <th>attributes.BestNights</th>\n",
       "      <th>attributes.BikeParking</th>\n",
       "      <th>...</th>\n",
       "      <th>hours.Wednesday</th>\n",
       "      <th>is_open</th>\n",
       "      <th>latitude</th>\n",
       "      <th>longitude</th>\n",
       "      <th>name</th>\n",
       "      <th>neighborhood</th>\n",
       "      <th>postal_code</th>\n",
       "      <th>review_count</th>\n",
       "      <th>stars</th>\n",
       "      <th>state</th>\n",
       "    </tr>\n",
       "  </thead>\n",
       "  <tbody>\n",
       "    <tr>\n",
       "      <th>0</th>\n",
       "      <td>1314 44 Avenue NE</td>\n",
       "      <td>NaN</td>\n",
       "      <td>NaN</td>\n",
       "      <td>NaN</td>\n",
       "      <td>NaN</td>\n",
       "      <td>NaN</td>\n",
       "      <td>NaN</td>\n",
       "      <td>NaN</td>\n",
       "      <td>NaN</td>\n",
       "      <td>False</td>\n",
       "      <td>...</td>\n",
       "      <td>11:0-21:0</td>\n",
       "      <td>1</td>\n",
       "      <td>51.091813</td>\n",
       "      <td>-114.031675</td>\n",
       "      <td>Minhas Micro Brewery</td>\n",
       "      <td>NaN</td>\n",
       "      <td>T2E 6L6</td>\n",
       "      <td>24</td>\n",
       "      <td>4.0</td>\n",
       "      <td>AB</td>\n",
       "    </tr>\n",
       "    <tr>\n",
       "      <th>1</th>\n",
       "      <td>NaN</td>\n",
       "      <td>NaN</td>\n",
       "      <td>NaN</td>\n",
       "      <td>NaN</td>\n",
       "      <td>none</td>\n",
       "      <td>NaN</td>\n",
       "      <td>NaN</td>\n",
       "      <td>NaN</td>\n",
       "      <td>NaN</td>\n",
       "      <td>False</td>\n",
       "      <td>...</td>\n",
       "      <td>NaN</td>\n",
       "      <td>0</td>\n",
       "      <td>35.960734</td>\n",
       "      <td>-114.939821</td>\n",
       "      <td>CK'S BBQ &amp; Catering</td>\n",
       "      <td>NaN</td>\n",
       "      <td>89002</td>\n",
       "      <td>3</td>\n",
       "      <td>4.5</td>\n",
       "      <td>NV</td>\n",
       "    </tr>\n",
       "    <tr>\n",
       "      <th>2</th>\n",
       "      <td>1335 rue Beaubien E</td>\n",
       "      <td>NaN</td>\n",
       "      <td>NaN</td>\n",
       "      <td>NaN</td>\n",
       "      <td>beer_and_wine</td>\n",
       "      <td>{'romantic': False, 'intimate': False, 'classy...</td>\n",
       "      <td>NaN</td>\n",
       "      <td>NaN</td>\n",
       "      <td>NaN</td>\n",
       "      <td>True</td>\n",
       "      <td>...</td>\n",
       "      <td>10:0-22:0</td>\n",
       "      <td>0</td>\n",
       "      <td>45.540503</td>\n",
       "      <td>-73.599300</td>\n",
       "      <td>La Bastringue</td>\n",
       "      <td>Rosemont-La Petite-Patrie</td>\n",
       "      <td>H2G 1K7</td>\n",
       "      <td>5</td>\n",
       "      <td>4.0</td>\n",
       "      <td>QC</td>\n",
       "    </tr>\n",
       "    <tr>\n",
       "      <th>3</th>\n",
       "      <td>211 W Monroe St</td>\n",
       "      <td>NaN</td>\n",
       "      <td>NaN</td>\n",
       "      <td>NaN</td>\n",
       "      <td>NaN</td>\n",
       "      <td>NaN</td>\n",
       "      <td>NaN</td>\n",
       "      <td>NaN</td>\n",
       "      <td>NaN</td>\n",
       "      <td>NaN</td>\n",
       "      <td>...</td>\n",
       "      <td>NaN</td>\n",
       "      <td>1</td>\n",
       "      <td>33.449999</td>\n",
       "      <td>-112.076979</td>\n",
       "      <td>Geico Insurance</td>\n",
       "      <td>NaN</td>\n",
       "      <td>85003</td>\n",
       "      <td>8</td>\n",
       "      <td>1.5</td>\n",
       "      <td>AZ</td>\n",
       "    </tr>\n",
       "    <tr>\n",
       "      <th>4</th>\n",
       "      <td>2005 Alyth Place SE</td>\n",
       "      <td>NaN</td>\n",
       "      <td>NaN</td>\n",
       "      <td>NaN</td>\n",
       "      <td>NaN</td>\n",
       "      <td>NaN</td>\n",
       "      <td>NaN</td>\n",
       "      <td>NaN</td>\n",
       "      <td>NaN</td>\n",
       "      <td>NaN</td>\n",
       "      <td>...</td>\n",
       "      <td>8:0-17:0</td>\n",
       "      <td>1</td>\n",
       "      <td>51.035591</td>\n",
       "      <td>-114.027366</td>\n",
       "      <td>Action Engine</td>\n",
       "      <td>NaN</td>\n",
       "      <td>T2H 0N5</td>\n",
       "      <td>4</td>\n",
       "      <td>2.0</td>\n",
       "      <td>AB</td>\n",
       "    </tr>\n",
       "  </tbody>\n",
       "</table>\n",
       "<p>5 rows × 61 columns</p>\n",
       "</div>"
      ],
      "text/plain": [
       "               address  attributes attributes.AcceptsInsurance  \\\n",
       "0    1314 44 Avenue NE         NaN                         NaN   \n",
       "1                  NaN         NaN                         NaN   \n",
       "2  1335 rue Beaubien E         NaN                         NaN   \n",
       "3      211 W Monroe St         NaN                         NaN   \n",
       "4  2005 Alyth Place SE         NaN                         NaN   \n",
       "\n",
       "  attributes.AgesAllowed attributes.Alcohol  \\\n",
       "0                    NaN                NaN   \n",
       "1                    NaN               none   \n",
       "2                    NaN      beer_and_wine   \n",
       "3                    NaN                NaN   \n",
       "4                    NaN                NaN   \n",
       "\n",
       "                                 attributes.Ambience attributes.BYOB  \\\n",
       "0                                                NaN             NaN   \n",
       "1                                                NaN             NaN   \n",
       "2  {'romantic': False, 'intimate': False, 'classy...             NaN   \n",
       "3                                                NaN             NaN   \n",
       "4                                                NaN             NaN   \n",
       "\n",
       "  attributes.BYOBCorkage attributes.BestNights attributes.BikeParking  ...   \\\n",
       "0                    NaN                   NaN                  False  ...    \n",
       "1                    NaN                   NaN                  False  ...    \n",
       "2                    NaN                   NaN                   True  ...    \n",
       "3                    NaN                   NaN                    NaN  ...    \n",
       "4                    NaN                   NaN                    NaN  ...    \n",
       "\n",
       "  hours.Wednesday is_open   latitude   longitude                  name  \\\n",
       "0       11:0-21:0       1  51.091813 -114.031675  Minhas Micro Brewery   \n",
       "1             NaN       0  35.960734 -114.939821   CK'S BBQ & Catering   \n",
       "2       10:0-22:0       0  45.540503  -73.599300         La Bastringue   \n",
       "3             NaN       1  33.449999 -112.076979       Geico Insurance   \n",
       "4        8:0-17:0       1  51.035591 -114.027366         Action Engine   \n",
       "\n",
       "                neighborhood postal_code review_count stars state  \n",
       "0                        NaN     T2E 6L6           24   4.0    AB  \n",
       "1                        NaN       89002            3   4.5    NV  \n",
       "2  Rosemont-La Petite-Patrie     H2G 1K7            5   4.0    QC  \n",
       "3                        NaN       85003            8   1.5    AZ  \n",
       "4                        NaN     T2H 0N5            4   2.0    AB  \n",
       "\n",
       "[5 rows x 61 columns]"
      ]
     },
     "execution_count": 3,
     "metadata": {},
     "output_type": "execute_result"
    }
   ],
   "source": [
    "#take a peak\n",
    "business.head()"
   ]
  },
  {
   "cell_type": "code",
   "execution_count": 4,
   "metadata": {},
   "outputs": [
    {
     "name": "stdout",
     "output_type": "stream",
     "text": [
      "<class 'pandas.core.frame.DataFrame'>\n",
      "RangeIndex: 188593 entries, 0 to 188592\n",
      "Data columns (total 61 columns):\n",
      "address                                  180970 non-null object\n",
      "attributes                               0 non-null float64\n",
      "attributes.AcceptsInsurance              11671 non-null object\n",
      "attributes.AgesAllowed                   397 non-null object\n",
      "attributes.Alcohol                       47892 non-null object\n",
      "attributes.Ambience                      47577 non-null object\n",
      "attributes.BYOB                          911 non-null object\n",
      "attributes.BYOBCorkage                   1409 non-null object\n",
      "attributes.BestNights                    6844 non-null object\n",
      "attributes.BikeParking                   84891 non-null object\n",
      "attributes.BusinessAcceptsBitcoin        12674 non-null object\n",
      "attributes.BusinessAcceptsCreditCards    140391 non-null object\n",
      "attributes.BusinessParking               103424 non-null object\n",
      "attributes.ByAppointmentOnly             45423 non-null object\n",
      "attributes.Caters                        40038 non-null object\n",
      "attributes.CoatCheck                     8531 non-null object\n",
      "attributes.Corkage                       657 non-null object\n",
      "attributes.DietaryRestrictions           138 non-null object\n",
      "attributes.DogsAllowed                   13681 non-null object\n",
      "attributes.DriveThru                     6754 non-null object\n",
      "attributes.GoodForDancing                9162 non-null object\n",
      "attributes.GoodForKids                   64931 non-null object\n",
      "attributes.GoodForMeal                   47483 non-null object\n",
      "attributes.HairSpecializesIn             1881 non-null object\n",
      "attributes.HappyHour                     9285 non-null object\n",
      "attributes.HasTV                         47533 non-null object\n",
      "attributes.Music                         8807 non-null object\n",
      "attributes.NoiseLevel                    43710 non-null object\n",
      "attributes.Open24Hours                   352 non-null object\n",
      "attributes.OutdoorSeating                54181 non-null object\n",
      "attributes.RestaurantsAttire             48182 non-null object\n",
      "attributes.RestaurantsCounterService     397 non-null object\n",
      "attributes.RestaurantsDelivery           51668 non-null object\n",
      "attributes.RestaurantsGoodForGroups      53839 non-null object\n",
      "attributes.RestaurantsPriceRange2        107120 non-null float64\n",
      "attributes.RestaurantsReservations       51363 non-null object\n",
      "attributes.RestaurantsTableService       43325 non-null object\n",
      "attributes.RestaurantsTakeOut            61206 non-null object\n",
      "attributes.Smoking                       8113 non-null object\n",
      "attributes.WheelchairAccessible          52023 non-null object\n",
      "attributes.WiFi                          49026 non-null object\n",
      "business_id                              188593 non-null object\n",
      "categories                               188052 non-null object\n",
      "city                                     188583 non-null object\n",
      "hours                                    0 non-null float64\n",
      "hours.Friday                             141796 non-null object\n",
      "hours.Monday                             132761 non-null object\n",
      "hours.Saturday                           125376 non-null object\n",
      "hours.Sunday                             93387 non-null object\n",
      "hours.Thursday                           142359 non-null object\n",
      "hours.Tuesday                            140607 non-null object\n",
      "hours.Wednesday                          141843 non-null object\n",
      "is_open                                  188593 non-null int64\n",
      "latitude                                 188587 non-null float64\n",
      "longitude                                188587 non-null float64\n",
      "name                                     188593 non-null object\n",
      "neighborhood                             68655 non-null object\n",
      "postal_code                              187912 non-null object\n",
      "review_count                             188593 non-null int64\n",
      "stars                                    188593 non-null float64\n",
      "state                                    188593 non-null object\n",
      "dtypes: float64(6), int64(2), object(53)\n",
      "memory usage: 87.8+ MB\n"
     ]
    }
   ],
   "source": [
    "business.info()"
   ]
  },
  {
   "cell_type": "code",
   "execution_count": 5,
   "metadata": {},
   "outputs": [
    {
     "data": {
      "image/png": "[encoded data removed]",
      "text/plain": [
       "<Figure size 576x288 with 1 Axes>"
      ]
     },
     "metadata": {},
     "output_type": "display_data"
    }
   ],
   "source": [
    "#Get the distribution of the ratings\n",
    "x=business['stars'].value_counts()\n",
    "x=x.sort_index()\n",
    "#plot\n",
    "plt.figure(figsize=(8,4))\n",
    "ax= sns.barplot(x.index, x.values, alpha=0.8)\n",
    "plt.title(\"Star Rating Distribution\")\n",
    "plt.ylabel('# of businesses', fontsize=12)\n",
    "plt.xlabel('Star Ratings ', fontsize=12)\n",
    "\n",
    "#adding the text labels\n",
    "rects = ax.patches\n",
    "labels = x.values\n",
    "for rect, label in zip(rects, labels):\n",
    "    height = rect.get_height()\n",
    "    ax.text(rect.get_x() + rect.get_width()/2, height + 5, label, ha='center', va='bottom')\n",
    "\n",
    "plt.show()"
   ]
  },
  {
   "cell_type": "code",
   "execution_count": 6,
   "metadata": {},
   "outputs": [
    {
     "data": {
      "image/png": "[encoded data removed]",
      "text/plain": [
       "<Figure size 1152x288 with 1 Axes>"
      ]
     },
     "metadata": {},
     "output_type": "display_data"
    }
   ],
   "source": [
    "#Get the distribution of the citys\n",
    "x=business['city'].value_counts()\n",
    "x=x.sort_values(ascending=False)\n",
    "x=x.iloc[0:20]\n",
    "plt.figure(figsize=(16,4))\n",
    "ax = sns.barplot(x.index, x.values, alpha=0.8,color=color[3])\n",
    "plt.title(\"Which city has the most reviews?\")\n",
    "locs, labels = plt.xticks()\n",
    "plt.setp(labels, rotation=45)\n",
    "plt.ylabel('# businesses', fontsize=12)\n",
    "plt.xlabel('City', fontsize=12)\n",
    "\n",
    "#adding the text labels\n",
    "rects = ax.patches\n",
    "labels = x.values\n",
    "for rect, label in zip(rects, labels):\n",
    "    height = rect.get_height()\n",
    "    ax.text(rect.get_x() + rect.get_width()/2, height + 5, label, ha='center', va='bottom')\n",
    "\n",
    "plt.show()\n"
   ]
  },
  {
   "cell_type": "code",
   "execution_count": 7,
   "metadata": {},
   "outputs": [
    {
     "data": {
      "text/plain": [
       "pandas.core.series.Series"
      ]
     },
     "execution_count": 7,
     "metadata": {},
     "output_type": "execute_result"
    }
   ],
   "source": [
    "type(business['categories'])"
   ]
  },
  {
   "cell_type": "code",
   "execution_count": 8,
   "metadata": {},
   "outputs": [
    {
     "name": "stdout",
     "output_type": "stream",
     "text": [
      "0    Tours, Breweries, Pizza, Restaurants, Food, Ho...\n",
      "1    Chicken Wings, Burgers, Caterers, Street Vendo...\n",
      "2    Breakfast & Brunch, Restaurants, French, Sandw...\n",
      "3                        Insurance, Financial Services\n",
      "4    Home & Garden, Nurseries & Gardening, Shopping...\n",
      "Name: categories, dtype: object\n"
     ]
    }
   ],
   "source": [
    "print(business['categories'].head())"
   ]
  },
  {
   "cell_type": "code",
   "execution_count": 9,
   "metadata": {},
   "outputs": [
    {
     "name": "stdout",
     "output_type": "stream",
     "text": [
      "      category\n",
      "0        Tours\n",
      "1    Breweries\n",
      "2        Pizza\n",
      "3  Restaurants\n",
      "4         Food\n",
      "Restaurants               57173\n",
      "Shopping                  30231\n",
      "Food                      27118\n",
      "Beauty&Spas               18967\n",
      "HomeServices              18634\n",
      "Health&Medical            16157\n",
      "LocalServices             12906\n",
      "Automotive                12656\n",
      "Nightlife                 12438\n",
      "Bars                      10853\n",
      "EventPlanning&Services     9774\n",
      "ActiveLife                 9119\n",
      "Fashion                    7406\n",
      "Coffee&Tea                 6936\n",
      "Sandwiches                 6912\n",
      "HairSalons                 6825\n",
      "FastFood                   6812\n",
      "American(Traditional)      6659\n",
      "Pizza                      6603\n",
      "Home&Garden                6020\n",
      "Name: category, dtype: int64\n",
      "There are  1305  different types/categories of Businesses in Yelp!\n"
     ]
    }
   ],
   "source": [
    "# What are the popular business categories?\n",
    "strinfo = re.compile(' ')\n",
    "business_cat= business['categories'].str.cat(sep = ',')\n",
    "business_cats = strinfo.sub('', business_cat)\n",
    "#print(business_cats)\n",
    "cats=pd.DataFrame(business_cats.split(','),columns=['category'])\n",
    "print(cats.head())\n",
    "x=cats.category.value_counts()\n",
    "print(x.head(20))\n",
    "print(\"There are \",len(x),\" different types/categories of Businesses in Yelp!\")\n",
    "#prep for chart\n",
    "x=x.sort_values(ascending=False)\n",
    "x=x.iloc[0:20]"
   ]
  },
  {
   "cell_type": "code",
   "execution_count": 10,
   "metadata": {},
   "outputs": [
    {
     "data": {
      "image/png": "[encoded data removed]",
      "text/plain": [
       "<Figure size 1152x288 with 1 Axes>"
      ]
     },
     "metadata": {},
     "output_type": "display_data"
    }
   ],
   "source": [
    "#chart\n",
    "plt.figure(figsize=(16,4))\n",
    "ax = sns.barplot(x.index, x.values, alpha=0.8)#,color=color[5])\n",
    "plt.title(\"What are the top categories?\",fontsize=25)\n",
    "locs, labels = plt.xticks()\n",
    "plt.setp(labels, rotation=80)\n",
    "plt.ylabel('# businesses', fontsize=12)\n",
    "plt.xlabel('Category', fontsize=12)\n",
    "#adding the text labels\n",
    "rects = ax.patches\n",
    "labels = x.values\n",
    "for rect, label in zip(rects, labels):\n",
    "    height = rect.get_height()\n",
    "    ax.text(rect.get_x() + rect.get_width()/2, height + 5, label, ha='center', va='bottom')\n",
    "\n",
    "plt.show()\n"
   ]
  },
  {
   "cell_type": "code",
   "execution_count": 11,
   "metadata": {},
   "outputs": [
    {
     "name": "stdout",
     "output_type": "stream",
     "text": [
      "                           address  attributes attributes.AcceptsInsurance  \\\n",
      "105           2450 Losee Rd, Ste E         NaN                         NaN   \n",
      "165                  6462 Losee Rd         NaN                         NaN   \n",
      "268                  3910 W Ann Rd         NaN                        True   \n",
      "270  5135 Camino Al Norte, Ste 250         NaN                         NaN   \n",
      "272                4728 W Craig Rd         NaN                         NaN   \n",
      "\n",
      "    attributes.AgesAllowed attributes.Alcohol attributes.Ambience  \\\n",
      "105                    NaN                NaN                 NaN   \n",
      "165                    NaN                NaN                 NaN   \n",
      "268                    NaN                NaN                 NaN   \n",
      "270                    NaN                NaN                 NaN   \n",
      "272                    NaN                NaN                 NaN   \n",
      "\n",
      "    attributes.BYOB attributes.BYOBCorkage attributes.BestNights  \\\n",
      "105             NaN                    NaN                   NaN   \n",
      "165             NaN                    NaN                   NaN   \n",
      "268             NaN                    NaN                   NaN   \n",
      "270             NaN                    NaN                   NaN   \n",
      "272             NaN                    NaN                   NaN   \n",
      "\n",
      "    attributes.BikeParking  ...  hours.Wednesday is_open   latitude  \\\n",
      "105                    NaN  ...        10:0-18:0       0  36.204563   \n",
      "165                    NaN  ...         7:0-19:0       1  36.277764   \n",
      "268                    NaN  ...         9:0-18:0       1  36.261768   \n",
      "270                    NaN  ...         9:0-17:0       1  36.253446   \n",
      "272                   True  ...          0:0-0:0       1  36.239341   \n",
      "\n",
      "      longitude              name neighborhood postal_code review_count stars  \\\n",
      "105 -115.136337   Unique Wireless          NaN       89030            7   5.0   \n",
      "165 -115.116317    Advanced Brows          NaN       89086            4   5.0   \n",
      "268 -115.192210     Allure Dental          NaN       89031            3   5.0   \n",
      "270 -115.153999  Superstar Movers          NaN       89031           16   3.0   \n",
      "272 -115.207056          7-Eleven    Northwest       89032            4   4.0   \n",
      "\n",
      "    state  \n",
      "105    NV  \n",
      "165    NV  \n",
      "268    NV  \n",
      "270    NV  \n",
      "272    NV  \n",
      "\n",
      "[5 rows x 61 columns]\n",
      "<class 'pandas.core.frame.DataFrame'>\n",
      "Int64Index: 1508 entries, 105 to 188561\n",
      "Data columns (total 61 columns):\n",
      "address                                  1422 non-null object\n",
      "attributes                               0 non-null float64\n",
      "attributes.AcceptsInsurance              105 non-null object\n",
      "attributes.AgesAllowed                   3 non-null object\n",
      "attributes.Alcohol                       296 non-null object\n",
      "attributes.Ambience                      285 non-null object\n",
      "attributes.BYOB                          6 non-null object\n",
      "attributes.BYOBCorkage                   10 non-null object\n",
      "attributes.BestNights                    26 non-null object\n",
      "attributes.BikeParking                   625 non-null object\n",
      "attributes.BusinessAcceptsBitcoin        117 non-null object\n",
      "attributes.BusinessAcceptsCreditCards    1199 non-null object\n",
      "attributes.BusinessParking               687 non-null object\n",
      "attributes.ByAppointmentOnly             420 non-null object\n",
      "attributes.Caters                        289 non-null object\n",
      "attributes.CoatCheck                     32 non-null object\n",
      "attributes.Corkage                       6 non-null object\n",
      "attributes.DietaryRestrictions           0 non-null object\n",
      "attributes.DogsAllowed                   58 non-null object\n",
      "attributes.DriveThru                     75 non-null object\n",
      "attributes.GoodForDancing                34 non-null object\n",
      "attributes.GoodForKids                   427 non-null object\n",
      "attributes.GoodForMeal                   304 non-null object\n",
      "attributes.HairSpecializesIn             10 non-null object\n",
      "attributes.HappyHour                     34 non-null object\n",
      "attributes.HasTV                         288 non-null object\n",
      "attributes.Music                         33 non-null object\n",
      "attributes.NoiseLevel                    257 non-null object\n",
      "attributes.Open24Hours                   2 non-null object\n",
      "attributes.OutdoorSeating                325 non-null object\n",
      "attributes.RestaurantsAttire             296 non-null object\n",
      "attributes.RestaurantsCounterService     3 non-null object\n",
      "attributes.RestaurantsDelivery           329 non-null object\n",
      "attributes.RestaurantsGoodForGroups      322 non-null object\n",
      "attributes.RestaurantsPriceRange2        717 non-null float64\n",
      "attributes.RestaurantsReservations       311 non-null object\n",
      "attributes.RestaurantsTableService       251 non-null object\n",
      "attributes.RestaurantsTakeOut            410 non-null object\n",
      "attributes.Smoking                       30 non-null object\n",
      "attributes.WheelchairAccessible          298 non-null object\n",
      "attributes.WiFi                          308 non-null object\n",
      "business_id                              1508 non-null object\n",
      "categories                               1499 non-null object\n",
      "city                                     1508 non-null object\n",
      "hours                                    0 non-null float64\n",
      "hours.Friday                             1183 non-null object\n",
      "hours.Monday                             1139 non-null object\n",
      "hours.Saturday                           1049 non-null object\n",
      "hours.Sunday                             784 non-null object\n",
      "hours.Thursday                           1179 non-null object\n",
      "hours.Tuesday                            1177 non-null object\n",
      "hours.Wednesday                          1179 non-null object\n",
      "is_open                                  1508 non-null int64\n",
      "latitude                                 1508 non-null float64\n",
      "longitude                                1508 non-null float64\n",
      "name                                     1508 non-null object\n",
      "neighborhood                             45 non-null object\n",
      "postal_code                              1504 non-null object\n",
      "review_count                             1508 non-null int64\n",
      "stars                                    1508 non-null float64\n",
      "state                                    1508 non-null object\n",
      "dtypes: float64(6), int64(2), object(53)\n",
      "memory usage: 730.4+ KB\n",
      "None\n"
     ]
    }
   ],
   "source": [
    "business_NLasVeg = business[business['city']=='North Las Vegas']\n",
    "print(business_NLasVeg.head())\n",
    "print(business_NLasVeg.info())"
   ]
  },
  {
   "cell_type": "code",
   "execution_count": 12,
   "metadata": {},
   "outputs": [
    {
     "name": "stdout",
     "output_type": "stream",
     "text": [
      "Las Vegas          28865\n",
      "Phoenix            18633\n",
      "Toronto            18233\n",
      "Charlotte           9204\n",
      "Scottsdale          8822\n",
      "Calgary             7384\n",
      "Pittsburgh          6804\n",
      "Mesa                6239\n",
      "Montréal            6045\n",
      "Henderson           4815\n",
      "Tempe               4492\n",
      "Chandler            4272\n",
      "Madison             3509\n",
      "Cleveland           3506\n",
      "Glendale            3469\n",
      "Gilbert             3397\n",
      "Mississauga         2954\n",
      "Peoria              1868\n",
      "Markham             1699\n",
      "North Las Vegas     1508\n",
      "Name: city, dtype: int64\n"
     ]
    }
   ],
   "source": [
    "x=business['city'].value_counts()\n",
    "print(x.head(20))"
   ]
  },
  {
   "cell_type": "code",
   "execution_count": 13,
   "metadata": {
    "scrolled": true
   },
   "outputs": [
    {
     "name": "stdout",
     "output_type": "stream",
     "text": [
      "                           address  attributes  attributes.AcceptsInsurance  \\\n",
      "105           2450 Losee Rd, Ste E         0.0                            0   \n",
      "165                  6462 Losee Rd         0.0                            0   \n",
      "268                  3910 W Ann Rd         0.0                            1   \n",
      "270  5135 Camino Al Norte, Ste 250         0.0                            0   \n",
      "272                4728 W Craig Rd         0.0                            0   \n",
      "\n",
      "    attributes.AgesAllowed attributes.Alcohol attributes.Ambience  \\\n",
      "105                      0                  0                   0   \n",
      "165                      0                  0                   0   \n",
      "268                      0                  0                   0   \n",
      "270                      0                  0                   0   \n",
      "272                      0                  0                   0   \n",
      "\n",
      "     attributes.BYOB attributes.BYOBCorkage attributes.BestNights  \\\n",
      "105                0                      0                     0   \n",
      "165                0                      0                     0   \n",
      "268                0                      0                     0   \n",
      "270                0                      0                     0   \n",
      "272                0                      0                     0   \n",
      "\n",
      "     attributes.BikeParking  ...    hours.Wednesday  is_open   latitude  \\\n",
      "105                       0  ...          10:0-18:0        0  36.204563   \n",
      "165                       0  ...           7:0-19:0        1  36.277764   \n",
      "268                       0  ...           9:0-18:0        1  36.261768   \n",
      "270                       0  ...           9:0-17:0        1  36.253446   \n",
      "272                       1  ...            0:0-0:0        1  36.239341   \n",
      "\n",
      "      longitude              name  neighborhood  postal_code  review_count  \\\n",
      "105 -115.136337   Unique Wireless             0        89030             7   \n",
      "165 -115.116317    Advanced Brows             0        89086             4   \n",
      "268 -115.192210     Allure Dental             0        89031             3   \n",
      "270 -115.153999  Superstar Movers             0        89031            16   \n",
      "272 -115.207056          7-Eleven     Northwest        89032             4   \n",
      "\n",
      "     stars  state  \n",
      "105    5.0     NV  \n",
      "165    5.0     NV  \n",
      "268    5.0     NV  \n",
      "270    3.0     NV  \n",
      "272    4.0     NV  \n",
      "\n",
      "[5 rows x 61 columns]\n",
      "105    0\n",
      "165    0\n",
      "268    0\n",
      "270    0\n",
      "272    0\n",
      "Name: attributes.Ambience, dtype: object\n"
     ]
    }
   ],
   "source": [
    "#change all the nan value into 0\n",
    "business_NLasVeg = business_NLasVeg.fillna(0).apply(pd.to_numeric, errors = 'ignore')\n",
    "print(business_NLasVeg.head())\n",
    "print(business_NLasVeg['attributes.Ambience'].head())"
   ]
  },
  {
   "cell_type": "code",
   "execution_count": 14,
   "metadata": {},
   "outputs": [
    {
     "data": {
      "text/plain": [
       "0"
      ]
     },
     "execution_count": 14,
     "metadata": {},
     "output_type": "execute_result"
    }
   ],
   "source": [
    "# check that all nulls are removed\n",
    "business_NLasVeg.isnull().sum().sum()"
   ]
  },
  {
   "cell_type": "code",
   "execution_count": 15,
   "metadata": {},
   "outputs": [
    {
     "data": {
      "image/png": "[encoded data removed]",
      "text/plain": [
       "<Figure size 432x288 with 1 Axes>"
      ]
     },
     "metadata": {},
     "output_type": "display_data"
    }
   ],
   "source": [
    "sns.boxplot(x='attributes.WiFi', y='stars', data=business_NLasVeg);"
   ]
  },
  {
   "cell_type": "code",
   "execution_count": 16,
   "metadata": {},
   "outputs": [
    {
     "name": "stdout",
     "output_type": "stream",
     "text": [
      "105    Appliances & Repair, IT Services & Computer Re...\n",
      "165    Doctors, Eyebrow Services, Tattoo Removal, Bea...\n",
      "268        Dentists, Health & Medical, General Dentistry\n",
      "270              Movers, Packing Services, Home Services\n",
      "272    Coffee & Tea, Automotive, Convenience Stores, ...\n",
      "Name: categories, dtype: object\n"
     ]
    }
   ],
   "source": [
    "print(business_NLasVeg['categories'].head())"
   ]
  },
  {
   "cell_type": "code",
   "execution_count": 17,
   "metadata": {},
   "outputs": [
    {
     "data": {
      "text/plain": [
       "Index(['address', 'attributes', 'attributes.AcceptsInsurance',\n",
       "       'attributes.AgesAllowed', 'attributes.Alcohol', 'attributes.Ambience',\n",
       "       'attributes.BYOB', 'attributes.BYOBCorkage', 'attributes.BestNights',\n",
       "       'attributes.BikeParking', 'attributes.BusinessAcceptsBitcoin',\n",
       "       'attributes.BusinessAcceptsCreditCards', 'attributes.BusinessParking',\n",
       "       'attributes.ByAppointmentOnly', 'attributes.Caters',\n",
       "       'attributes.CoatCheck', 'attributes.Corkage',\n",
       "       'attributes.DietaryRestrictions', 'attributes.DogsAllowed',\n",
       "       'attributes.DriveThru', 'attributes.GoodForDancing',\n",
       "       'attributes.GoodForKids', 'attributes.GoodForMeal',\n",
       "       'attributes.HairSpecializesIn', 'attributes.HappyHour',\n",
       "       'attributes.HasTV', 'attributes.Music', 'attributes.NoiseLevel',\n",
       "       'attributes.Open24Hours', 'attributes.OutdoorSeating',\n",
       "       'attributes.RestaurantsAttire', 'attributes.RestaurantsCounterService',\n",
       "       'attributes.RestaurantsDelivery', 'attributes.RestaurantsGoodForGroups',\n",
       "       'attributes.RestaurantsPriceRange2',\n",
       "       'attributes.RestaurantsReservations',\n",
       "       'attributes.RestaurantsTableService', 'attributes.RestaurantsTakeOut',\n",
       "       'attributes.Smoking', 'attributes.WheelchairAccessible',\n",
       "       'attributes.WiFi', 'business_id', 'categories', 'city', 'hours',\n",
       "       'hours.Friday', 'hours.Monday', 'hours.Saturday', 'hours.Sunday',\n",
       "       'hours.Thursday', 'hours.Tuesday', 'hours.Wednesday', 'is_open',\n",
       "       'latitude', 'longitude', 'name', 'neighborhood', 'postal_code',\n",
       "       'review_count', 'stars', 'state'],\n",
       "      dtype='object')"
      ]
     },
     "execution_count": 17,
     "metadata": {},
     "output_type": "execute_result"
    }
   ],
   "source": [
    "business_NLasVeg.columns"
   ]
  },
  {
   "cell_type": "code",
   "execution_count": 18,
   "metadata": {},
   "outputs": [
    {
     "data": {
      "text/plain": [
       "105          0\n",
       "165          0\n",
       "268          0\n",
       "270          0\n",
       "272          0\n",
       "471          0\n",
       "560          0\n",
       "902          0\n",
       "1060    casual\n",
       "1068    casual\n",
       "Name: attributes.RestaurantsAttire, dtype: object"
      ]
     },
     "execution_count": 18,
     "metadata": {},
     "output_type": "execute_result"
    }
   ],
   "source": [
    "business_NLasVeg[\"attributes.RestaurantsAttire\"].head(10)\n",
    "#type(business_NLasVeg[\"review_count\"])"
   ]
  },
  {
   "cell_type": "code",
   "execution_count": 19,
   "metadata": {},
   "outputs": [
    {
     "name": "stdout",
     "output_type": "stream",
     "text": [
      "<class 'pandas.core.frame.DataFrame'>\n",
      "Int64Index: 1508 entries, 105 to 188561\n",
      "Columns: 649 entries, address to Yoga\n",
      "dtypes: float64(6), int64(615), object(28)\n",
      "memory usage: 7.5+ MB\n",
      "None\n",
      "Index(['0', 'ATVRentals/Tours', 'Accessories', 'Accountants', 'ActiveLife',\n",
      "       'AdultEducation', 'AdultEntertainment', 'AerialTours',\n",
      "       'AirDuctCleaning', 'Airports',\n",
      "       ...\n",
      "       'Wigs', 'WildlifeControl', 'WindowWashing', 'WindowsInstallation',\n",
      "       'WindshieldInstallation&Repair', 'Wine&Spirits', 'WineBars',\n",
      "       'Women'sClothing', 'Wraps', 'Yoga'],\n",
      "      dtype='object', length=587)\n"
     ]
    }
   ],
   "source": [
    "#split categories columns into sub category column\n",
    "business_NLasVeg['categories_clean'] = list(map(lambda x: ''.join(x.split()),business_NLasVeg['categories'].astype(str)))\n",
    "#print(business_NLasVeg['categories_clean'])\n",
    "categories_df = business_NLasVeg.categories_clean.str.get_dummies(sep=',')\n",
    "\n",
    "business_NLasVeg = business_NLasVeg.merge(categories_df, left_index=True, right_index=True)\n",
    "print(business_NLasVeg.info())\n",
    "#print(business_NLasVeg.head())\n",
    "print(categories_df.columns)"
   ]
  },
  {
   "cell_type": "code",
   "execution_count": 20,
   "metadata": {
    "scrolled": true
   },
   "outputs": [
    {
     "name": "stdout",
     "output_type": "stream",
     "text": [
      "0    1173\n",
      "1     335\n",
      "Name: Restaurants, dtype: int64\n"
     ]
    },
    {
     "data": {
      "text/html": [
       "<div>\n",
       "<style scoped>\n",
       "    .dataframe tbody tr th:only-of-type {\n",
       "        vertical-align: middle;\n",
       "    }\n",
       "\n",
       "    .dataframe tbody tr th {\n",
       "        vertical-align: top;\n",
       "    }\n",
       "\n",
       "    .dataframe thead th {\n",
       "        text-align: right;\n",
       "    }\n",
       "</style>\n",
       "<table border=\"1\" class=\"dataframe\">\n",
       "  <thead>\n",
       "    <tr style=\"text-align: right;\">\n",
       "      <th></th>\n",
       "      <th>business_id</th>\n",
       "      <th>categories</th>\n",
       "      <th>city</th>\n",
       "      <th>hours</th>\n",
       "      <th>hours.Friday</th>\n",
       "      <th>hours.Monday</th>\n",
       "      <th>hours.Saturday</th>\n",
       "      <th>hours.Sunday</th>\n",
       "      <th>hours.Thursday</th>\n",
       "      <th>hours.Tuesday</th>\n",
       "      <th>hours.Wednesday</th>\n",
       "      <th>is_open</th>\n",
       "      <th>latitude</th>\n",
       "      <th>longitude</th>\n",
       "      <th>name</th>\n",
       "      <th>neighborhood</th>\n",
       "      <th>postal_code</th>\n",
       "      <th>review_count</th>\n",
       "      <th>stars</th>\n",
       "      <th>state</th>\n",
       "    </tr>\n",
       "  </thead>\n",
       "  <tbody>\n",
       "    <tr>\n",
       "      <th>1060</th>\n",
       "      <td>ywF14Amq9SLX5o8Qnx3hgA</td>\n",
       "      <td>Restaurants, Mexican</td>\n",
       "      <td>North Las Vegas</td>\n",
       "      <td>0.0</td>\n",
       "      <td>7:0-20:0</td>\n",
       "      <td>7:0-16:0</td>\n",
       "      <td>7:0-20:0</td>\n",
       "      <td>7:0-20:0</td>\n",
       "      <td>7:0-16:0</td>\n",
       "      <td>7:0-16:0</td>\n",
       "      <td>7:0-16:0</td>\n",
       "      <td>1</td>\n",
       "      <td>36.196344</td>\n",
       "      <td>-115.105675</td>\n",
       "      <td>El Menudazo</td>\n",
       "      <td>0</td>\n",
       "      <td>89030</td>\n",
       "      <td>77</td>\n",
       "      <td>4.0</td>\n",
       "      <td>NV</td>\n",
       "    </tr>\n",
       "    <tr>\n",
       "      <th>1068</th>\n",
       "      <td>4MGlJYAiP5RYHzyQozAeAA</td>\n",
       "      <td>Irish, Sandwiches, Restaurants, Breakfast &amp; Br...</td>\n",
       "      <td>North Las Vegas</td>\n",
       "      <td>0.0</td>\n",
       "      <td>0:0-0:0</td>\n",
       "      <td>0:0-0:0</td>\n",
       "      <td>0:0-0:0</td>\n",
       "      <td>0:0-0:0</td>\n",
       "      <td>0:0-0:0</td>\n",
       "      <td>0:0-0:0</td>\n",
       "      <td>0:0-0:0</td>\n",
       "      <td>1</td>\n",
       "      <td>36.261869</td>\n",
       "      <td>-115.184139</td>\n",
       "      <td>Sean Patricks</td>\n",
       "      <td>0</td>\n",
       "      <td>89031</td>\n",
       "      <td>56</td>\n",
       "      <td>3.0</td>\n",
       "      <td>NV</td>\n",
       "    </tr>\n",
       "    <tr>\n",
       "      <th>3172</th>\n",
       "      <td>2qIZlW8YSLL8a7I6KkJdHQ</td>\n",
       "      <td>Mexican, Restaurants</td>\n",
       "      <td>North Las Vegas</td>\n",
       "      <td>0.0</td>\n",
       "      <td>9:0-21:0</td>\n",
       "      <td>9:0-21:0</td>\n",
       "      <td>8:0-0:0</td>\n",
       "      <td>8:0-21:0</td>\n",
       "      <td>9:0-21:0</td>\n",
       "      <td>9:0-21:0</td>\n",
       "      <td>9:0-21:0</td>\n",
       "      <td>0</td>\n",
       "      <td>36.276771</td>\n",
       "      <td>-115.114974</td>\n",
       "      <td>Lina's Mexican Restaurant</td>\n",
       "      <td>0</td>\n",
       "      <td>89086</td>\n",
       "      <td>38</td>\n",
       "      <td>4.0</td>\n",
       "      <td>NV</td>\n",
       "    </tr>\n",
       "    <tr>\n",
       "      <th>3390</th>\n",
       "      <td>NQoGxONQIBEJR2iXL-xaQQ</td>\n",
       "      <td>Restaurants, Pizza</td>\n",
       "      <td>North Las Vegas</td>\n",
       "      <td>0.0</td>\n",
       "      <td>10:0-0:0</td>\n",
       "      <td>10:0-23:0</td>\n",
       "      <td>10:0-0:0</td>\n",
       "      <td>10:0-23:0</td>\n",
       "      <td>10:0-23:0</td>\n",
       "      <td>10:0-23:0</td>\n",
       "      <td>10:0-23:0</td>\n",
       "      <td>1</td>\n",
       "      <td>36.261998</td>\n",
       "      <td>-115.206747</td>\n",
       "      <td>Marco's Pizza</td>\n",
       "      <td>Northwest</td>\n",
       "      <td>89031</td>\n",
       "      <td>38</td>\n",
       "      <td>3.5</td>\n",
       "      <td>NV</td>\n",
       "    </tr>\n",
       "    <tr>\n",
       "      <th>5556</th>\n",
       "      <td>Yqg9Muttvbm9s2r-HZY18Q</td>\n",
       "      <td>Salad, Vegetarian, Sandwiches, Restaurants</td>\n",
       "      <td>North Las Vegas</td>\n",
       "      <td>0.0</td>\n",
       "      <td>10:0-23:0</td>\n",
       "      <td>10:0-22:0</td>\n",
       "      <td>10:0-23:0</td>\n",
       "      <td>10:0-22:0</td>\n",
       "      <td>10:0-22:0</td>\n",
       "      <td>10:0-22:0</td>\n",
       "      <td>10:0-22:0</td>\n",
       "      <td>1</td>\n",
       "      <td>36.241020</td>\n",
       "      <td>-115.096742</td>\n",
       "      <td>Capriotti's Sandwich Shop</td>\n",
       "      <td>0</td>\n",
       "      <td>89030</td>\n",
       "      <td>50</td>\n",
       "      <td>3.5</td>\n",
       "      <td>NV</td>\n",
       "    </tr>\n",
       "    <tr>\n",
       "      <th>6350</th>\n",
       "      <td>E6DmUAHfSRCEakvknot-zA</td>\n",
       "      <td>Seafood, Mexican, Restaurants</td>\n",
       "      <td>North Las Vegas</td>\n",
       "      <td>0.0</td>\n",
       "      <td>0</td>\n",
       "      <td>0</td>\n",
       "      <td>0</td>\n",
       "      <td>0</td>\n",
       "      <td>0</td>\n",
       "      <td>0</td>\n",
       "      <td>0</td>\n",
       "      <td>1</td>\n",
       "      <td>36.204544</td>\n",
       "      <td>-115.117071</td>\n",
       "      <td>Las Islitas Mariscos</td>\n",
       "      <td>0</td>\n",
       "      <td>89030</td>\n",
       "      <td>269</td>\n",
       "      <td>3.5</td>\n",
       "      <td>NV</td>\n",
       "    </tr>\n",
       "    <tr>\n",
       "      <th>7138</th>\n",
       "      <td>P8wBSzIVgg-hw9XZ3LWphg</td>\n",
       "      <td>Restaurants, Mexican</td>\n",
       "      <td>North Las Vegas</td>\n",
       "      <td>0.0</td>\n",
       "      <td>10:0-22:0</td>\n",
       "      <td>10:0-22:0</td>\n",
       "      <td>10:0-22:0</td>\n",
       "      <td>10:0-22:0</td>\n",
       "      <td>10:0-22:0</td>\n",
       "      <td>10:0-22:0</td>\n",
       "      <td>10:0-22:0</td>\n",
       "      <td>1</td>\n",
       "      <td>36.196091</td>\n",
       "      <td>-115.112804</td>\n",
       "      <td>Las Islas Marias</td>\n",
       "      <td>0</td>\n",
       "      <td>89030</td>\n",
       "      <td>9</td>\n",
       "      <td>3.0</td>\n",
       "      <td>NV</td>\n",
       "    </tr>\n",
       "    <tr>\n",
       "      <th>7934</th>\n",
       "      <td>FoPkCFoyW1b_S8jLsKjcnQ</td>\n",
       "      <td>Restaurants, Mexican</td>\n",
       "      <td>North Las Vegas</td>\n",
       "      <td>0.0</td>\n",
       "      <td>9:0-16:0</td>\n",
       "      <td>0</td>\n",
       "      <td>9:0-16:0</td>\n",
       "      <td>9:0-16:0</td>\n",
       "      <td>0</td>\n",
       "      <td>0</td>\n",
       "      <td>0</td>\n",
       "      <td>1</td>\n",
       "      <td>36.211229</td>\n",
       "      <td>-115.102190</td>\n",
       "      <td>Tacos Tijuana</td>\n",
       "      <td>0</td>\n",
       "      <td>89030</td>\n",
       "      <td>11</td>\n",
       "      <td>4.5</td>\n",
       "      <td>NV</td>\n",
       "    </tr>\n",
       "    <tr>\n",
       "      <th>9960</th>\n",
       "      <td>swRC2ipDh0nRJZIjyXrU0w</td>\n",
       "      <td>Restaurants, American (Traditional)</td>\n",
       "      <td>North Las Vegas</td>\n",
       "      <td>0.0</td>\n",
       "      <td>10:0-15:0</td>\n",
       "      <td>10:0-15:0</td>\n",
       "      <td>10:0-15:0</td>\n",
       "      <td>0</td>\n",
       "      <td>10:0-15:0</td>\n",
       "      <td>10:0-15:0</td>\n",
       "      <td>10:0-15:0</td>\n",
       "      <td>0</td>\n",
       "      <td>36.220394</td>\n",
       "      <td>-115.124792</td>\n",
       "      <td>Jake's Filling Station</td>\n",
       "      <td>0</td>\n",
       "      <td>89030</td>\n",
       "      <td>24</td>\n",
       "      <td>5.0</td>\n",
       "      <td>NV</td>\n",
       "    </tr>\n",
       "    <tr>\n",
       "      <th>10578</th>\n",
       "      <td>zRSUXYmoPraF1YSWG59gFQ</td>\n",
       "      <td>American (Traditional), Restaurants, Pubs, Nig...</td>\n",
       "      <td>North Las Vegas</td>\n",
       "      <td>0.0</td>\n",
       "      <td>0</td>\n",
       "      <td>0</td>\n",
       "      <td>0</td>\n",
       "      <td>0</td>\n",
       "      <td>0</td>\n",
       "      <td>0</td>\n",
       "      <td>0</td>\n",
       "      <td>0</td>\n",
       "      <td>36.240816</td>\n",
       "      <td>-115.116347</td>\n",
       "      <td>Winchell's Pub &amp; Grill</td>\n",
       "      <td>0</td>\n",
       "      <td>89030</td>\n",
       "      <td>9</td>\n",
       "      <td>3.0</td>\n",
       "      <td>NV</td>\n",
       "    </tr>\n",
       "    <tr>\n",
       "      <th>11098</th>\n",
       "      <td>45zlHi1yyrjpQS_icSi60A</td>\n",
       "      <td>Buffets, Restaurants</td>\n",
       "      <td>North Las Vegas</td>\n",
       "      <td>0.0</td>\n",
       "      <td>8:0-21:0</td>\n",
       "      <td>8:0-21:0</td>\n",
       "      <td>8:0-21:0</td>\n",
       "      <td>8:0-21:0</td>\n",
       "      <td>8:0-21:0</td>\n",
       "      <td>8:0-21:0</td>\n",
       "      <td>8:0-21:0</td>\n",
       "      <td>1</td>\n",
       "      <td>36.197476</td>\n",
       "      <td>-115.191654</td>\n",
       "      <td>Feast Buffet</td>\n",
       "      <td>0</td>\n",
       "      <td>89032</td>\n",
       "      <td>84</td>\n",
       "      <td>3.0</td>\n",
       "      <td>NV</td>\n",
       "    </tr>\n",
       "    <tr>\n",
       "      <th>13611</th>\n",
       "      <td>2JU7FRlnYgdRauYyFzHSLA</td>\n",
       "      <td>Restaurants, Burgers, Chicken Wings</td>\n",
       "      <td>North Las Vegas</td>\n",
       "      <td>0.0</td>\n",
       "      <td>0</td>\n",
       "      <td>0</td>\n",
       "      <td>0</td>\n",
       "      <td>0</td>\n",
       "      <td>0</td>\n",
       "      <td>0</td>\n",
       "      <td>0</td>\n",
       "      <td>1</td>\n",
       "      <td>36.218130</td>\n",
       "      <td>-115.116121</td>\n",
       "      <td>Hamburger Hut 'N' Market</td>\n",
       "      <td>0</td>\n",
       "      <td>89030</td>\n",
       "      <td>147</td>\n",
       "      <td>4.0</td>\n",
       "      <td>NV</td>\n",
       "    </tr>\n",
       "    <tr>\n",
       "      <th>13730</th>\n",
       "      <td>q8uVDQVlN1xoHJhrJ_ms5g</td>\n",
       "      <td>Restaurants, Mexican</td>\n",
       "      <td>North Las Vegas</td>\n",
       "      <td>0.0</td>\n",
       "      <td>0</td>\n",
       "      <td>0</td>\n",
       "      <td>0</td>\n",
       "      <td>0</td>\n",
       "      <td>0</td>\n",
       "      <td>0</td>\n",
       "      <td>0</td>\n",
       "      <td>0</td>\n",
       "      <td>36.196168</td>\n",
       "      <td>-115.110873</td>\n",
       "      <td>Taqueria el Palenque</td>\n",
       "      <td>0</td>\n",
       "      <td>89030</td>\n",
       "      <td>6</td>\n",
       "      <td>3.5</td>\n",
       "      <td>NV</td>\n",
       "    </tr>\n",
       "    <tr>\n",
       "      <th>15139</th>\n",
       "      <td>-Sgt6wFx05Ox-O1ZSC3LOA</td>\n",
       "      <td>Mediterranean, Greek, Caterers, Restaurants, E...</td>\n",
       "      <td>North Las Vegas</td>\n",
       "      <td>0.0</td>\n",
       "      <td>11:0-18:30</td>\n",
       "      <td>11:0-18:30</td>\n",
       "      <td>11:0-18:30</td>\n",
       "      <td>11:0-16:0</td>\n",
       "      <td>11:0-18:30</td>\n",
       "      <td>11:0-19:0</td>\n",
       "      <td>11:0-18:30</td>\n",
       "      <td>0</td>\n",
       "      <td>36.262606</td>\n",
       "      <td>-115.179417</td>\n",
       "      <td>The Little Greek</td>\n",
       "      <td>0</td>\n",
       "      <td>89031</td>\n",
       "      <td>180</td>\n",
       "      <td>4.0</td>\n",
       "      <td>NV</td>\n",
       "    </tr>\n",
       "    <tr>\n",
       "      <th>15929</th>\n",
       "      <td>RCZwXZ7o_m-qLIp_18FsZw</td>\n",
       "      <td>Restaurants, Sandwiches, Fast Food</td>\n",
       "      <td>North Las Vegas</td>\n",
       "      <td>0.0</td>\n",
       "      <td>7:0-23:0</td>\n",
       "      <td>7:0-23:0</td>\n",
       "      <td>8:0-23:0</td>\n",
       "      <td>8:0-23:0</td>\n",
       "      <td>7:0-23:0</td>\n",
       "      <td>7:0-23:0</td>\n",
       "      <td>7:0-23:0</td>\n",
       "      <td>1</td>\n",
       "      <td>36.285896</td>\n",
       "      <td>-115.179198</td>\n",
       "      <td>Subway</td>\n",
       "      <td>0</td>\n",
       "      <td>89084</td>\n",
       "      <td>6</td>\n",
       "      <td>1.5</td>\n",
       "      <td>NV</td>\n",
       "    </tr>\n",
       "    <tr>\n",
       "      <th>15931</th>\n",
       "      <td>sOf5D_Dw3fu5RVz3K-M6_A</td>\n",
       "      <td>Fast Food, Sandwiches, Restaurants</td>\n",
       "      <td>North Las Vegas</td>\n",
       "      <td>0.0</td>\n",
       "      <td>0</td>\n",
       "      <td>0</td>\n",
       "      <td>0</td>\n",
       "      <td>0</td>\n",
       "      <td>0</td>\n",
       "      <td>0</td>\n",
       "      <td>0</td>\n",
       "      <td>1</td>\n",
       "      <td>36.287400</td>\n",
       "      <td>-115.178331</td>\n",
       "      <td>Arby's</td>\n",
       "      <td>0</td>\n",
       "      <td>89084</td>\n",
       "      <td>24</td>\n",
       "      <td>2.5</td>\n",
       "      <td>NV</td>\n",
       "    </tr>\n",
       "    <tr>\n",
       "      <th>17705</th>\n",
       "      <td>97-_E9JpqbUmaUg33-SOyQ</td>\n",
       "      <td>Italian, Chicken Wings, Restaurants, Pizza</td>\n",
       "      <td>North Las Vegas</td>\n",
       "      <td>0.0</td>\n",
       "      <td>10:30-0:0</td>\n",
       "      <td>10:30-23:0</td>\n",
       "      <td>10:30-0:0</td>\n",
       "      <td>10:30-23:0</td>\n",
       "      <td>10:30-23:0</td>\n",
       "      <td>10:30-23:0</td>\n",
       "      <td>10:30-23:0</td>\n",
       "      <td>1</td>\n",
       "      <td>36.268857</td>\n",
       "      <td>-115.110762</td>\n",
       "      <td>Pizza Hut</td>\n",
       "      <td>0</td>\n",
       "      <td>89081</td>\n",
       "      <td>18</td>\n",
       "      <td>2.0</td>\n",
       "      <td>NV</td>\n",
       "    </tr>\n",
       "    <tr>\n",
       "      <th>18553</th>\n",
       "      <td>VmSrPPO2WXmOKjUW7pDGsQ</td>\n",
       "      <td>Burgers, Diners, Restaurants, Breakfast &amp; Brunch</td>\n",
       "      <td>North Las Vegas</td>\n",
       "      <td>0.0</td>\n",
       "      <td>7:0-0:0</td>\n",
       "      <td>7:0-23:0</td>\n",
       "      <td>7:0-0:0</td>\n",
       "      <td>7:0-23:0</td>\n",
       "      <td>7:0-0:0</td>\n",
       "      <td>7:0-0:0</td>\n",
       "      <td>7:0-0:0</td>\n",
       "      <td>1</td>\n",
       "      <td>36.197112</td>\n",
       "      <td>-115.178532</td>\n",
       "      <td>Mega Tom's Burgers</td>\n",
       "      <td>0</td>\n",
       "      <td>89106</td>\n",
       "      <td>152</td>\n",
       "      <td>3.5</td>\n",
       "      <td>NV</td>\n",
       "    </tr>\n",
       "    <tr>\n",
       "      <th>19619</th>\n",
       "      <td>FkXpr1ms8toOZ4sUWibPNA</td>\n",
       "      <td>Fast Food, Food, Burgers, Ice Cream &amp; Frozen Y...</td>\n",
       "      <td>North Las Vegas</td>\n",
       "      <td>0.0</td>\n",
       "      <td>6:0-2:0</td>\n",
       "      <td>6:0-1:0</td>\n",
       "      <td>6:0-2:0</td>\n",
       "      <td>6:0-1:0</td>\n",
       "      <td>6:0-1:0</td>\n",
       "      <td>6:0-1:0</td>\n",
       "      <td>6:0-1:0</td>\n",
       "      <td>1</td>\n",
       "      <td>36.258881</td>\n",
       "      <td>-115.154184</td>\n",
       "      <td>Sonic Drive-In</td>\n",
       "      <td>0</td>\n",
       "      <td>89031</td>\n",
       "      <td>43</td>\n",
       "      <td>2.0</td>\n",
       "      <td>NV</td>\n",
       "    </tr>\n",
       "    <tr>\n",
       "      <th>20064</th>\n",
       "      <td>j_PL_u4SWW1LoEd2dCu0Iw</td>\n",
       "      <td>Event Planning &amp; Services, Caterers, Pizza, It...</td>\n",
       "      <td>North Las Vegas</td>\n",
       "      <td>0.0</td>\n",
       "      <td>11:0-22:0</td>\n",
       "      <td>0</td>\n",
       "      <td>11:0-22:0</td>\n",
       "      <td>11:0-22:0</td>\n",
       "      <td>11:0-22:0</td>\n",
       "      <td>11:0-22:0</td>\n",
       "      <td>11:0-22:0</td>\n",
       "      <td>0</td>\n",
       "      <td>36.239559</td>\n",
       "      <td>-115.195117</td>\n",
       "      <td>Bambini's Pizzeria Rotisserie</td>\n",
       "      <td>0</td>\n",
       "      <td>89032</td>\n",
       "      <td>79</td>\n",
       "      <td>3.5</td>\n",
       "      <td>NV</td>\n",
       "    </tr>\n",
       "  </tbody>\n",
       "</table>\n",
       "</div>"
      ],
      "text/plain": [
       "                  business_id  \\\n",
       "1060   ywF14Amq9SLX5o8Qnx3hgA   \n",
       "1068   4MGlJYAiP5RYHzyQozAeAA   \n",
       "3172   2qIZlW8YSLL8a7I6KkJdHQ   \n",
       "3390   NQoGxONQIBEJR2iXL-xaQQ   \n",
       "5556   Yqg9Muttvbm9s2r-HZY18Q   \n",
       "6350   E6DmUAHfSRCEakvknot-zA   \n",
       "7138   P8wBSzIVgg-hw9XZ3LWphg   \n",
       "7934   FoPkCFoyW1b_S8jLsKjcnQ   \n",
       "9960   swRC2ipDh0nRJZIjyXrU0w   \n",
       "10578  zRSUXYmoPraF1YSWG59gFQ   \n",
       "11098  45zlHi1yyrjpQS_icSi60A   \n",
       "13611  2JU7FRlnYgdRauYyFzHSLA   \n",
       "13730  q8uVDQVlN1xoHJhrJ_ms5g   \n",
       "15139  -Sgt6wFx05Ox-O1ZSC3LOA   \n",
       "15929  RCZwXZ7o_m-qLIp_18FsZw   \n",
       "15931  sOf5D_Dw3fu5RVz3K-M6_A   \n",
       "17705  97-_E9JpqbUmaUg33-SOyQ   \n",
       "18553  VmSrPPO2WXmOKjUW7pDGsQ   \n",
       "19619  FkXpr1ms8toOZ4sUWibPNA   \n",
       "20064  j_PL_u4SWW1LoEd2dCu0Iw   \n",
       "\n",
       "                                              categories             city  \\\n",
       "1060                                Restaurants, Mexican  North Las Vegas   \n",
       "1068   Irish, Sandwiches, Restaurants, Breakfast & Br...  North Las Vegas   \n",
       "3172                                Mexican, Restaurants  North Las Vegas   \n",
       "3390                                  Restaurants, Pizza  North Las Vegas   \n",
       "5556          Salad, Vegetarian, Sandwiches, Restaurants  North Las Vegas   \n",
       "6350                       Seafood, Mexican, Restaurants  North Las Vegas   \n",
       "7138                                Restaurants, Mexican  North Las Vegas   \n",
       "7934                                Restaurants, Mexican  North Las Vegas   \n",
       "9960                 Restaurants, American (Traditional)  North Las Vegas   \n",
       "10578  American (Traditional), Restaurants, Pubs, Nig...  North Las Vegas   \n",
       "11098                               Buffets, Restaurants  North Las Vegas   \n",
       "13611                Restaurants, Burgers, Chicken Wings  North Las Vegas   \n",
       "13730                               Restaurants, Mexican  North Las Vegas   \n",
       "15139  Mediterranean, Greek, Caterers, Restaurants, E...  North Las Vegas   \n",
       "15929                 Restaurants, Sandwiches, Fast Food  North Las Vegas   \n",
       "15931                 Fast Food, Sandwiches, Restaurants  North Las Vegas   \n",
       "17705         Italian, Chicken Wings, Restaurants, Pizza  North Las Vegas   \n",
       "18553   Burgers, Diners, Restaurants, Breakfast & Brunch  North Las Vegas   \n",
       "19619  Fast Food, Food, Burgers, Ice Cream & Frozen Y...  North Las Vegas   \n",
       "20064  Event Planning & Services, Caterers, Pizza, It...  North Las Vegas   \n",
       "\n",
       "       hours hours.Friday hours.Monday hours.Saturday hours.Sunday  \\\n",
       "1060     0.0     7:0-20:0     7:0-16:0       7:0-20:0     7:0-20:0   \n",
       "1068     0.0      0:0-0:0      0:0-0:0        0:0-0:0      0:0-0:0   \n",
       "3172     0.0     9:0-21:0     9:0-21:0        8:0-0:0     8:0-21:0   \n",
       "3390     0.0     10:0-0:0    10:0-23:0       10:0-0:0    10:0-23:0   \n",
       "5556     0.0    10:0-23:0    10:0-22:0      10:0-23:0    10:0-22:0   \n",
       "6350     0.0            0            0              0            0   \n",
       "7138     0.0    10:0-22:0    10:0-22:0      10:0-22:0    10:0-22:0   \n",
       "7934     0.0     9:0-16:0            0       9:0-16:0     9:0-16:0   \n",
       "9960     0.0    10:0-15:0    10:0-15:0      10:0-15:0            0   \n",
       "10578    0.0            0            0              0            0   \n",
       "11098    0.0     8:0-21:0     8:0-21:0       8:0-21:0     8:0-21:0   \n",
       "13611    0.0            0            0              0            0   \n",
       "13730    0.0            0            0              0            0   \n",
       "15139    0.0   11:0-18:30   11:0-18:30     11:0-18:30    11:0-16:0   \n",
       "15929    0.0     7:0-23:0     7:0-23:0       8:0-23:0     8:0-23:0   \n",
       "15931    0.0            0            0              0            0   \n",
       "17705    0.0    10:30-0:0   10:30-23:0      10:30-0:0   10:30-23:0   \n",
       "18553    0.0      7:0-0:0     7:0-23:0        7:0-0:0     7:0-23:0   \n",
       "19619    0.0      6:0-2:0      6:0-1:0        6:0-2:0      6:0-1:0   \n",
       "20064    0.0    11:0-22:0            0      11:0-22:0    11:0-22:0   \n",
       "\n",
       "      hours.Thursday hours.Tuesday hours.Wednesday  is_open   latitude  \\\n",
       "1060        7:0-16:0      7:0-16:0        7:0-16:0        1  36.196344   \n",
       "1068         0:0-0:0       0:0-0:0         0:0-0:0        1  36.261869   \n",
       "3172        9:0-21:0      9:0-21:0        9:0-21:0        0  36.276771   \n",
       "3390       10:0-23:0     10:0-23:0       10:0-23:0        1  36.261998   \n",
       "5556       10:0-22:0     10:0-22:0       10:0-22:0        1  36.241020   \n",
       "6350               0             0               0        1  36.204544   \n",
       "7138       10:0-22:0     10:0-22:0       10:0-22:0        1  36.196091   \n",
       "7934               0             0               0        1  36.211229   \n",
       "9960       10:0-15:0     10:0-15:0       10:0-15:0        0  36.220394   \n",
       "10578              0             0               0        0  36.240816   \n",
       "11098       8:0-21:0      8:0-21:0        8:0-21:0        1  36.197476   \n",
       "13611              0             0               0        1  36.218130   \n",
       "13730              0             0               0        0  36.196168   \n",
       "15139     11:0-18:30     11:0-19:0      11:0-18:30        0  36.262606   \n",
       "15929       7:0-23:0      7:0-23:0        7:0-23:0        1  36.285896   \n",
       "15931              0             0               0        1  36.287400   \n",
       "17705     10:30-23:0    10:30-23:0      10:30-23:0        1  36.268857   \n",
       "18553        7:0-0:0       7:0-0:0         7:0-0:0        1  36.197112   \n",
       "19619        6:0-1:0       6:0-1:0         6:0-1:0        1  36.258881   \n",
       "20064      11:0-22:0     11:0-22:0       11:0-22:0        0  36.239559   \n",
       "\n",
       "        longitude                           name neighborhood  postal_code  \\\n",
       "1060  -115.105675                    El Menudazo            0        89030   \n",
       "1068  -115.184139                  Sean Patricks            0        89031   \n",
       "3172  -115.114974      Lina's Mexican Restaurant            0        89086   \n",
       "3390  -115.206747                  Marco's Pizza    Northwest        89031   \n",
       "5556  -115.096742      Capriotti's Sandwich Shop            0        89030   \n",
       "6350  -115.117071           Las Islitas Mariscos            0        89030   \n",
       "7138  -115.112804               Las Islas Marias            0        89030   \n",
       "7934  -115.102190                  Tacos Tijuana            0        89030   \n",
       "9960  -115.124792         Jake's Filling Station            0        89030   \n",
       "10578 -115.116347         Winchell's Pub & Grill            0        89030   \n",
       "11098 -115.191654                   Feast Buffet            0        89032   \n",
       "13611 -115.116121       Hamburger Hut 'N' Market            0        89030   \n",
       "13730 -115.110873           Taqueria el Palenque            0        89030   \n",
       "15139 -115.179417               The Little Greek            0        89031   \n",
       "15929 -115.179198                         Subway            0        89084   \n",
       "15931 -115.178331                         Arby's            0        89084   \n",
       "17705 -115.110762                      Pizza Hut            0        89081   \n",
       "18553 -115.178532             Mega Tom's Burgers            0        89106   \n",
       "19619 -115.154184                 Sonic Drive-In            0        89031   \n",
       "20064 -115.195117  Bambini's Pizzeria Rotisserie            0        89032   \n",
       "\n",
       "       review_count  stars state  \n",
       "1060             77    4.0    NV  \n",
       "1068             56    3.0    NV  \n",
       "3172             38    4.0    NV  \n",
       "3390             38    3.5    NV  \n",
       "5556             50    3.5    NV  \n",
       "6350            269    3.5    NV  \n",
       "7138              9    3.0    NV  \n",
       "7934             11    4.5    NV  \n",
       "9960             24    5.0    NV  \n",
       "10578             9    3.0    NV  \n",
       "11098            84    3.0    NV  \n",
       "13611           147    4.0    NV  \n",
       "13730             6    3.5    NV  \n",
       "15139           180    4.0    NV  \n",
       "15929             6    1.5    NV  \n",
       "15931            24    2.5    NV  \n",
       "17705            18    2.0    NV  \n",
       "18553           152    3.5    NV  \n",
       "19619            43    2.0    NV  \n",
       "20064            79    3.5    NV  "
      ]
     },
     "execution_count": 20,
     "metadata": {},
     "output_type": "execute_result"
    }
   ],
   "source": [
    "select_df = business_NLasVeg[business_NLasVeg['Restaurants'] == 1]\n",
    "print(categories_df['Restaurants'].value_counts())\n",
    "#print(select_df.head())\n",
    "\n",
    "select_df = select_df.drop(columns = ['attributes'])\n",
    "select_df.iloc[:, 40:60].head(20)\n",
    "#print(select_df.info())"
   ]
  },
  {
   "cell_type": "code",
   "execution_count": 21,
   "metadata": {},
   "outputs": [
    {
     "name": "stdout",
     "output_type": "stream",
     "text": [
      "<class 'pandas.core.frame.DataFrame'>\n",
      "Int64Index: 335 entries, 1060 to 188560\n",
      "Columns: 648 entries, address to Yoga\n",
      "dtypes: float64(5), int64(615), object(28)\n",
      "memory usage: 1.7+ MB\n",
      "None\n"
     ]
    }
   ],
   "source": [
    "print(select_df.info())"
   ]
  },
  {
   "cell_type": "code",
   "execution_count": 22,
   "metadata": {},
   "outputs": [
    {
     "name": "stdout",
     "output_type": "stream",
     "text": [
      "Index(['address', 'attributes.AcceptsInsurance', 'attributes.AgesAllowed',\n",
      "       'attributes.Alcohol', 'attributes.Ambience', 'attributes.BYOB',\n",
      "       'attributes.BYOBCorkage', 'attributes.BestNights',\n",
      "       'attributes.BikeParking', 'attributes.BusinessAcceptsBitcoin',\n",
      "       ...\n",
      "       'Wigs', 'WildlifeControl', 'WindowWashing', 'WindowsInstallation',\n",
      "       'WindshieldInstallation&Repair', 'Wine&Spirits', 'WineBars',\n",
      "       'Women'sClothing', 'Wraps', 'Yoga'],\n",
      "      dtype='object', length=648)\n"
     ]
    }
   ],
   "source": [
    "print(select_df.columns)"
   ]
  },
  {
   "cell_type": "code",
   "execution_count": 23,
   "metadata": {},
   "outputs": [
    {
     "data": {
      "text/html": [
       "<div>\n",
       "<style scoped>\n",
       "    .dataframe tbody tr th:only-of-type {\n",
       "        vertical-align: middle;\n",
       "    }\n",
       "\n",
       "    .dataframe tbody tr th {\n",
       "        vertical-align: top;\n",
       "    }\n",
       "\n",
       "    .dataframe thead th {\n",
       "        text-align: right;\n",
       "    }\n",
       "</style>\n",
       "<table border=\"1\" class=\"dataframe\">\n",
       "  <thead>\n",
       "    <tr style=\"text-align: right;\">\n",
       "      <th></th>\n",
       "      <th>address</th>\n",
       "      <th>attributes.AcceptsInsurance</th>\n",
       "      <th>attributes.Ambience</th>\n",
       "      <th>attributes.BYOB</th>\n",
       "      <th>attributes.BestNights</th>\n",
       "      <th>attributes.BikeParking</th>\n",
       "      <th>attributes.BusinessAcceptsBitcoin</th>\n",
       "      <th>attributes.BusinessAcceptsCreditCards</th>\n",
       "      <th>attributes.BusinessParking</th>\n",
       "      <th>attributes.ByAppointmentOnly</th>\n",
       "      <th>...</th>\n",
       "      <th>attributes.NoiseLevel_very_loud</th>\n",
       "      <th>attributes.RestaurantsAttire_0</th>\n",
       "      <th>attributes.RestaurantsAttire_casual</th>\n",
       "      <th>attributes.Smoking_0</th>\n",
       "      <th>attributes.Smoking_no</th>\n",
       "      <th>attributes.Smoking_yes</th>\n",
       "      <th>attributes.WiFi_0</th>\n",
       "      <th>attributes.WiFi_free</th>\n",
       "      <th>attributes.WiFi_no</th>\n",
       "      <th>attributes.WiFi_paid</th>\n",
       "    </tr>\n",
       "  </thead>\n",
       "  <tbody>\n",
       "    <tr>\n",
       "      <th>1060</th>\n",
       "      <td>3100 E Lake Mead</td>\n",
       "      <td>0</td>\n",
       "      <td>{'romantic': False, 'intimate': False, 'classy...</td>\n",
       "      <td>0</td>\n",
       "      <td>0</td>\n",
       "      <td>1</td>\n",
       "      <td>0</td>\n",
       "      <td>1</td>\n",
       "      <td>{'garage': False, 'street': False, 'validated'...</td>\n",
       "      <td>0</td>\n",
       "      <td>...</td>\n",
       "      <td>0</td>\n",
       "      <td>0</td>\n",
       "      <td>1</td>\n",
       "      <td>1</td>\n",
       "      <td>0</td>\n",
       "      <td>0</td>\n",
       "      <td>0</td>\n",
       "      <td>0</td>\n",
       "      <td>1</td>\n",
       "      <td>0</td>\n",
       "    </tr>\n",
       "    <tr>\n",
       "      <th>1068</th>\n",
       "      <td>3290 W Ann Rd</td>\n",
       "      <td>0</td>\n",
       "      <td>{'romantic': False, 'intimate': False, 'classy...</td>\n",
       "      <td>0</td>\n",
       "      <td>{'monday': False, 'tuesday': False, 'friday': ...</td>\n",
       "      <td>1</td>\n",
       "      <td>0</td>\n",
       "      <td>1</td>\n",
       "      <td>{'garage': False, 'street': False, 'validated'...</td>\n",
       "      <td>0</td>\n",
       "      <td>...</td>\n",
       "      <td>0</td>\n",
       "      <td>0</td>\n",
       "      <td>1</td>\n",
       "      <td>0</td>\n",
       "      <td>0</td>\n",
       "      <td>1</td>\n",
       "      <td>0</td>\n",
       "      <td>0</td>\n",
       "      <td>1</td>\n",
       "      <td>0</td>\n",
       "    </tr>\n",
       "    <tr>\n",
       "      <th>3172</th>\n",
       "      <td>6412 Losee Rd, Ste 100</td>\n",
       "      <td>0</td>\n",
       "      <td>{'romantic': False, 'intimate': False, 'classy...</td>\n",
       "      <td>0</td>\n",
       "      <td>0</td>\n",
       "      <td>0</td>\n",
       "      <td>0</td>\n",
       "      <td>1</td>\n",
       "      <td>{'garage': False, 'street': False, 'validated'...</td>\n",
       "      <td>0</td>\n",
       "      <td>...</td>\n",
       "      <td>0</td>\n",
       "      <td>0</td>\n",
       "      <td>1</td>\n",
       "      <td>1</td>\n",
       "      <td>0</td>\n",
       "      <td>0</td>\n",
       "      <td>0</td>\n",
       "      <td>0</td>\n",
       "      <td>1</td>\n",
       "      <td>0</td>\n",
       "    </tr>\n",
       "    <tr>\n",
       "      <th>3390</th>\n",
       "      <td>4770 W Ann Rd, Ste 6</td>\n",
       "      <td>0</td>\n",
       "      <td>{'romantic': False, 'intimate': False, 'classy...</td>\n",
       "      <td>0</td>\n",
       "      <td>0</td>\n",
       "      <td>0</td>\n",
       "      <td>0</td>\n",
       "      <td>1</td>\n",
       "      <td>0</td>\n",
       "      <td>0</td>\n",
       "      <td>...</td>\n",
       "      <td>0</td>\n",
       "      <td>0</td>\n",
       "      <td>1</td>\n",
       "      <td>1</td>\n",
       "      <td>0</td>\n",
       "      <td>0</td>\n",
       "      <td>0</td>\n",
       "      <td>1</td>\n",
       "      <td>0</td>\n",
       "      <td>0</td>\n",
       "    </tr>\n",
       "    <tr>\n",
       "      <th>5556</th>\n",
       "      <td>3820 E Craig Rd</td>\n",
       "      <td>0</td>\n",
       "      <td>{'romantic': False, 'intimate': False, 'classy...</td>\n",
       "      <td>0</td>\n",
       "      <td>0</td>\n",
       "      <td>0</td>\n",
       "      <td>0</td>\n",
       "      <td>1</td>\n",
       "      <td>{'garage': False, 'street': False, 'validated'...</td>\n",
       "      <td>0</td>\n",
       "      <td>...</td>\n",
       "      <td>0</td>\n",
       "      <td>0</td>\n",
       "      <td>1</td>\n",
       "      <td>1</td>\n",
       "      <td>0</td>\n",
       "      <td>0</td>\n",
       "      <td>0</td>\n",
       "      <td>0</td>\n",
       "      <td>1</td>\n",
       "      <td>0</td>\n",
       "    </tr>\n",
       "  </tbody>\n",
       "</table>\n",
       "<p>5 rows × 664 columns</p>\n",
       "</div>"
      ],
      "text/plain": [
       "                     address  attributes.AcceptsInsurance  \\\n",
       "1060        3100 E Lake Mead                            0   \n",
       "1068           3290 W Ann Rd                            0   \n",
       "3172  6412 Losee Rd, Ste 100                            0   \n",
       "3390    4770 W Ann Rd, Ste 6                            0   \n",
       "5556         3820 E Craig Rd                            0   \n",
       "\n",
       "                                    attributes.Ambience  attributes.BYOB  \\\n",
       "1060  {'romantic': False, 'intimate': False, 'classy...                0   \n",
       "1068  {'romantic': False, 'intimate': False, 'classy...                0   \n",
       "3172  {'romantic': False, 'intimate': False, 'classy...                0   \n",
       "3390  {'romantic': False, 'intimate': False, 'classy...                0   \n",
       "5556  {'romantic': False, 'intimate': False, 'classy...                0   \n",
       "\n",
       "                                  attributes.BestNights  \\\n",
       "1060                                                  0   \n",
       "1068  {'monday': False, 'tuesday': False, 'friday': ...   \n",
       "3172                                                  0   \n",
       "3390                                                  0   \n",
       "5556                                                  0   \n",
       "\n",
       "      attributes.BikeParking  attributes.BusinessAcceptsBitcoin  \\\n",
       "1060                       1                                  0   \n",
       "1068                       1                                  0   \n",
       "3172                       0                                  0   \n",
       "3390                       0                                  0   \n",
       "5556                       0                                  0   \n",
       "\n",
       "      attributes.BusinessAcceptsCreditCards  \\\n",
       "1060                                      1   \n",
       "1068                                      1   \n",
       "3172                                      1   \n",
       "3390                                      1   \n",
       "5556                                      1   \n",
       "\n",
       "                             attributes.BusinessParking  \\\n",
       "1060  {'garage': False, 'street': False, 'validated'...   \n",
       "1068  {'garage': False, 'street': False, 'validated'...   \n",
       "3172  {'garage': False, 'street': False, 'validated'...   \n",
       "3390                                                  0   \n",
       "5556  {'garage': False, 'street': False, 'validated'...   \n",
       "\n",
       "      attributes.ByAppointmentOnly         ...           \\\n",
       "1060                             0         ...            \n",
       "1068                             0         ...            \n",
       "3172                             0         ...            \n",
       "3390                             0         ...            \n",
       "5556                             0         ...            \n",
       "\n",
       "      attributes.NoiseLevel_very_loud  attributes.RestaurantsAttire_0  \\\n",
       "1060                                0                               0   \n",
       "1068                                0                               0   \n",
       "3172                                0                               0   \n",
       "3390                                0                               0   \n",
       "5556                                0                               0   \n",
       "\n",
       "      attributes.RestaurantsAttire_casual  attributes.Smoking_0  \\\n",
       "1060                                    1                     1   \n",
       "1068                                    1                     0   \n",
       "3172                                    1                     1   \n",
       "3390                                    1                     1   \n",
       "5556                                    1                     1   \n",
       "\n",
       "      attributes.Smoking_no  attributes.Smoking_yes  attributes.WiFi_0  \\\n",
       "1060                      0                       0                  0   \n",
       "1068                      0                       1                  0   \n",
       "3172                      0                       0                  0   \n",
       "3390                      0                       0                  0   \n",
       "5556                      0                       0                  0   \n",
       "\n",
       "      attributes.WiFi_free attributes.WiFi_no attributes.WiFi_paid  \n",
       "1060                     0                  1                    0  \n",
       "1068                     0                  1                    0  \n",
       "3172                     0                  1                    0  \n",
       "3390                     1                  0                    0  \n",
       "5556                     0                  1                    0  \n",
       "\n",
       "[5 rows x 664 columns]"
      ]
     },
     "execution_count": 23,
     "metadata": {},
     "output_type": "execute_result"
    }
   ],
   "source": [
    "# columns with non-boolean categorical values:\n",
    "cols_to_split = ['attributes.AgesAllowed', 'attributes.Alcohol', 'attributes.BYOBCorkage', \n",
    "                 'attributes.NoiseLevel', 'attributes.RestaurantsAttire', 'attributes.Smoking', 'attributes.WiFi']\n",
    "new_cat = pd.concat([pd.get_dummies(select_df[col], prefix=col, prefix_sep='_') for col in cols_to_split], axis=1)\n",
    "# keep all columns (not n-1) because 0's for all of them indicates that the data was missing (useful info)\n",
    "select_df = pd.concat([select_df, new_cat], axis=1)\n",
    "select_df.drop(cols_to_split, inplace=True, axis=1)\n",
    "select_df.head()"
   ]
  },
  {
   "cell_type": "code",
   "execution_count": 24,
   "metadata": {},
   "outputs": [
    {
     "name": "stdout",
     "output_type": "stream",
     "text": [
      "<class 'pandas.core.frame.DataFrame'>\n",
      "Int64Index: 335 entries, 1060 to 188560\n",
      "Columns: 664 entries, address to attributes.WiFi_paid\n",
      "dtypes: float64(5), int64(615), object(21), uint8(23)\n",
      "memory usage: 1.6+ MB\n",
      "None\n"
     ]
    }
   ],
   "source": [
    "print(select_df.info())"
   ]
  },
  {
   "cell_type": "code",
   "execution_count": 25,
   "metadata": {},
   "outputs": [
    {
     "name": "stdout",
     "output_type": "stream",
     "text": [
      "Index(['attributes.AcceptsInsurance', 'attributes.BYOB',\n",
      "       'attributes.BikeParking', 'attributes.BusinessAcceptsBitcoin',\n",
      "       'attributes.BusinessAcceptsCreditCards', 'attributes.ByAppointmentOnly',\n",
      "       'attributes.Caters', 'attributes.CoatCheck', 'attributes.Corkage',\n",
      "       'attributes.DietaryRestrictions',\n",
      "       ...\n",
      "       'attributes.NoiseLevel_very_loud', 'attributes.RestaurantsAttire_0',\n",
      "       'attributes.RestaurantsAttire_casual', 'attributes.Smoking_0',\n",
      "       'attributes.Smoking_no', 'attributes.Smoking_yes', 'attributes.WiFi_0',\n",
      "       'attributes.WiFi_free', 'attributes.WiFi_no', 'attributes.WiFi_paid'],\n",
      "      dtype='object', length=643)\n"
     ]
    }
   ],
   "source": [
    "#drop columns with non-numeric\n",
    "select_df = select_df.select_dtypes(exclude=['object'])\n",
    "print(select_df.columns)"
   ]
  },
  {
   "cell_type": "code",
   "execution_count": 26,
   "metadata": {},
   "outputs": [
    {
     "name": "stdout",
     "output_type": "stream",
     "text": [
      "<class 'pandas.core.frame.DataFrame'>\n",
      "Int64Index: 335 entries, 1060 to 188560\n",
      "Columns: 643 entries, attributes.AcceptsInsurance to attributes.WiFi_paid\n",
      "dtypes: float64(5), int64(615), uint8(23)\n",
      "memory usage: 1.6 MB\n",
      "None\n"
     ]
    }
   ],
   "source": [
    "print(select_df.info())"
   ]
  },
  {
   "cell_type": "code",
   "execution_count": 27,
   "metadata": {},
   "outputs": [],
   "source": [
    "y = select_df['stars']\n",
    "X = select_df.drop(columns = ['stars'])"
   ]
  },
  {
   "cell_type": "code",
   "execution_count": 28,
   "metadata": {},
   "outputs": [
    {
     "data": {
      "text/plain": [
       "<matplotlib.axes._subplots.AxesSubplot at 0x1a1a30ad30>"
      ]
     },
     "execution_count": 28,
     "metadata": {},
     "output_type": "execute_result"
    },
    {
     "data": {
      "image/png": "[encoded data removed]",
      "text/plain": [
       "<Figure size 432x288 with 1 Axes>"
      ]
     },
     "metadata": {},
     "output_type": "display_data"
    }
   ],
   "source": [
    "sns.distplot(y, kde=False)"
   ]
  },
  {
   "cell_type": "code",
   "execution_count": 29,
   "metadata": {},
   "outputs": [
    {
     "data": {
      "text/plain": [
       "<matplotlib.axes._subplots.AxesSubplot at 0x1a1a372550>"
      ]
     },
     "execution_count": 29,
     "metadata": {},
     "output_type": "execute_result"
    },
    {
     "data": {
      "image/png": "[encoded data removed]",
      "text/plain": [
       "<Figure size 432x288 with 1 Axes>"
      ]
     },
     "metadata": {},
     "output_type": "display_data"
    }
   ],
   "source": [
    "sns.boxplot(x='attributes.WiFi_free', y='stars', data= select_df)"
   ]
  },
  {
   "cell_type": "code",
   "execution_count": 30,
   "metadata": {},
   "outputs": [
    {
     "name": "stdout",
     "output_type": "stream",
     "text": [
      "(234, 642)\n",
      "(101, 642)\n"
     ]
    }
   ],
   "source": [
    "X_train, X_test, y_train, y_test = train_test_split(X, y, test_size=.3, random_state=1)\n",
    "print(X_train.shape)\n",
    "print(X_test.shape)"
   ]
  },
  {
   "cell_type": "code",
   "execution_count": 31,
   "metadata": {},
   "outputs": [],
   "source": [
    "lasso = make_pipeline(RobustScaler(), Lasso(alpha =0.0005, random_state=1))\n",
    "ENet = make_pipeline(RobustScaler(), ElasticNet(alpha=0.0005, l1_ratio=.9, random_state=3))\n",
    "GBoost = GradientBoostingRegressor(n_estimators=3000, learning_rate=0.05,\n",
    "                                   max_depth=4, max_features='sqrt',\n",
    "                                   min_samples_leaf=15, min_samples_split=10, \n",
    "                                   loss='huber', random_state =5)"
   ]
  },
  {
   "cell_type": "code",
   "execution_count": 32,
   "metadata": {},
   "outputs": [
    {
     "name": "stdout",
     "output_type": "stream",
     "text": [
      "Train RMSE:\n",
      "0.5800368673917029\n",
      "Test RMSE:\n",
      "0.9093493266424525\n"
     ]
    }
   ],
   "source": [
    "lasso.fit(X_train, y_train)\n",
    "y_pred_train = lasso.predict(X_train)\n",
    "print('Train RMSE:')\n",
    "print(np.sqrt(mean_squared_error(y_train, y_pred_train)))\n",
    "\n",
    "y_pred_test = lasso.predict(X_test)\n",
    "print('Test RMSE:')\n",
    "print(np.sqrt(mean_squared_error(y_test, y_pred_test)))"
   ]
  },
  {
   "cell_type": "code",
   "execution_count": 33,
   "metadata": {},
   "outputs": [
    {
     "name": "stdout",
     "output_type": "stream",
     "text": [
      "Train RMSE:\n",
      "0.5794050359223707\n",
      "Test RMSE:\n",
      "0.9160403113017858\n"
     ]
    }
   ],
   "source": [
    "ENet.fit(X_train, y_train)\n",
    "y_pred_train = ENet.predict(X_train)\n",
    "print('Train RMSE:')\n",
    "print(np.sqrt(mean_squared_error(y_train, y_pred_train)))\n",
    "\n",
    "y_pred_test = ENet.predict(X_test)\n",
    "print('Test RMSE:')\n",
    "print(np.sqrt(mean_squared_error(y_test, y_pred_test)))"
   ]
  },
  {
   "cell_type": "code",
   "execution_count": 34,
   "metadata": {},
   "outputs": [
    {
     "name": "stdout",
     "output_type": "stream",
     "text": [
      "Train RMSE:\n",
      "0.33384670147881473\n",
      "Test RMSE:\n",
      "0.7549843058339633\n"
     ]
    }
   ],
   "source": [
    "GBoost.fit(X_train, y_train)\n",
    "y_pred_train = GBoost.predict(X_train)\n",
    "print('Train RMSE:')\n",
    "print(np.sqrt(mean_squared_error(y_train, y_pred_train)))\n",
    "\n",
    "y_pred_test = GBoost.predict(X_test)\n",
    "print('Test RMSE:')\n",
    "print(np.sqrt(mean_squared_error(y_test, y_pred_test)))"
   ]
  },
  {
   "cell_type": "code",
   "execution_count": 35,
   "metadata": {},
   "outputs": [
    {
     "name": "stdout",
     "output_type": "stream",
     "text": [
      "10-fold RMSEs:\n",
      "[0.90019571683844, 0.8035841925436111, 0.7037427164993725, 0.7736793952692828, 0.7656321614970085, 0.8589504166140622, 0.7299556990724387, 0.8239603263209999, 0.949985581295584, 0.9299393136056311]\n",
      "CV RMSE:\n",
      "0.827824111713872\n",
      "Std of CV RMSE:\n",
      "0.1326967910428538\n"
     ]
    }
   ],
   "source": [
    "#use cross-validation instead of train-test split for a better estimation of the RMSE\n",
    "kfold = KFold(n_splits=10, shuffle=True, random_state=1)\n",
    "cross_val_scores = cross_val_score(GBoost, X, y, scoring='neg_mean_squared_error', cv=kfold)\n",
    "print('10-fold RMSEs:')\n",
    "print([np.sqrt(-x) for x in cross_val_scores])\n",
    "print('CV RMSE:')\n",
    "print(np.sqrt(-np.mean(cross_val_scores))) # RMSE is the sqrt of the avg of MSEs\n",
    "print('Std of CV RMSE:')\n",
    "print(np.std(cross_val_scores))"
   ]
  },
  {
   "cell_type": "code",
   "execution_count": 36,
   "metadata": {},
   "outputs": [],
   "source": [
    "#parameters tuning for xgboost\n",
    "def modelfit(alg,useTrainCV=True, cv_folds=5, early_stopping_rounds=50):\n",
    "\n",
    "    if useTrainCV:\n",
    "        xgb_param = alg.get_xgb_params()\n",
    "        xgtrain =xgb.DMatrix(X_train,label=y_train)\n",
    "        xgtest = xgb.DMatrix(X_test)\n",
    "        cvresult = xgb.cv(xgb_param, xgtrain, num_boost_round=alg.get_params()['n_estimators'], nfold=cv_folds,\n",
    "                          early_stopping_rounds=early_stopping_rounds,show_stdv=False)\n",
    "        alg.set_params(n_estimators=cvresult.shape[0])#cvresult.shape[0] and alg.get_params()['n_estimators'] are same\n",
    "\n",
    "    #Fit the algorithm on the data\n",
    "    alg.fit(X_train, y_train,eval_metric='rmse')\n",
    "    #Predict training set:\n",
    "    dtrain_predictions = alg.predict(X_train)\n",
    "    #Print model report:\n",
    "    print(\"Score (Train): %f\" % mean_squared_error(y_train.values, dtrain_predictions))\n",
    "    #Predict on testing data:\n",
    "    dtest_predictions = alg.predict(X_test)\n",
    "    print(\"Score (Test): %f\" % mean_squared_error(y_test.values, dtest_predictions))\n"
   ]
  },
  {
   "cell_type": "code",
   "execution_count": 37,
   "metadata": {},
   "outputs": [
    {
     "name": "stdout",
     "output_type": "stream",
     "text": [
      "Score (Train): 0.037059\n",
      "Score (Test): 0.553299\n"
     ]
    }
   ],
   "source": [
    "xgb1 = XGBRegressor(booster='gbtree',\n",
    "                    objective= 'reg:linear',\n",
    "                    eval_metric='rmse',\n",
    "                    gamma = 0.1,\n",
    "                    min_child_weight= 1.1,\n",
    "                    max_depth= 5,\n",
    "                    subsample= 0.8,\n",
    "                    colsample_bytree= 0.8,\n",
    "                    tree_method= 'exact',\n",
    "                    learning_rate=0.1,\n",
    "                    n_estimators=100,\n",
    "                    nthread=4,\n",
    "                    scale_pos_weight=1,\n",
    "                    seed=27)\n",
    "modelfit(xgb1)"
   ]
  },
  {
   "cell_type": "code",
   "execution_count": 57,
   "metadata": {},
   "outputs": [
    {
     "name": "stdout",
     "output_type": "stream",
     "text": [
      "CPU times: user 1.23 s, sys: 76.3 ms, total: 1.31 s\n",
      "Wall time: 13 s\n"
     ]
    }
   ],
   "source": [
    "%%time\n",
    "\n",
    "#Grid seach for max_depth and min_child_weight tuning\n",
    "\n",
    "param_test1 = {\n",
    "    'max_depth':[3,5,7,9],\n",
    "    'min_child_weight':[1,3,5]\n",
    "}\n",
    "gsearch1 = GridSearchCV(estimator = XGBRegressor(booster='gbtree',\n",
    "                    objective= 'reg:linear',\n",
    "                    eval_metric='rmse',\n",
    "                    gamma = 0.1,\n",
    "                    min_child_weight= 1.1,\n",
    "                    max_depth= 5,\n",
    "                    subsample= 0.8,\n",
    "                    colsample_bytree= 0.8,\n",
    "                    tree_method= 'exact',\n",
    "                    learning_rate=0.1,\n",
    "                    n_estimators=100,\n",
    "                    nthread=4,\n",
    "                    scale_pos_weight=1,\n",
    "                    seed=27),\n",
    "                    param_grid = param_test1, scoring='mean_squared_error',n_jobs=4,iid=False, cv=5)\n",
    "gsearch1.fit(X_train,y_train)"
   ]
  },
  {
   "cell_type": "code",
   "execution_count": 39,
   "metadata": {},
   "outputs": [
    {
     "data": {
      "text/plain": [
       "([mean: -0.75434, std: 0.14600, params: {'max_depth': 3, 'min_child_weight': 1},\n",
       "  mean: -0.73818, std: 0.16217, params: {'max_depth': 3, 'min_child_weight': 3},\n",
       "  mean: -0.73042, std: 0.17354, params: {'max_depth': 3, 'min_child_weight': 5},\n",
       "  mean: -0.76044, std: 0.12061, params: {'max_depth': 5, 'min_child_weight': 1},\n",
       "  mean: -0.74657, std: 0.17033, params: {'max_depth': 5, 'min_child_weight': 3},\n",
       "  mean: -0.73615, std: 0.14945, params: {'max_depth': 5, 'min_child_weight': 5},\n",
       "  mean: -0.76385, std: 0.14216, params: {'max_depth': 7, 'min_child_weight': 1},\n",
       "  mean: -0.73575, std: 0.13349, params: {'max_depth': 7, 'min_child_weight': 3},\n",
       "  mean: -0.72902, std: 0.15856, params: {'max_depth': 7, 'min_child_weight': 5},\n",
       "  mean: -0.74439, std: 0.09913, params: {'max_depth': 9, 'min_child_weight': 1},\n",
       "  mean: -0.79265, std: 0.12450, params: {'max_depth': 9, 'min_child_weight': 3},\n",
       "  mean: -0.72550, std: 0.15679, params: {'max_depth': 9, 'min_child_weight': 5}],\n",
       " {'max_depth': 9, 'min_child_weight': 5},\n",
       " -0.725504265446873)"
      ]
     },
     "execution_count": 39,
     "metadata": {},
     "output_type": "execute_result"
    }
   ],
   "source": [
    "gsearch1.grid_scores_, gsearch1.best_params_, gsearch1.best_score_"
   ]
  },
  {
   "cell_type": "code",
   "execution_count": 58,
   "metadata": {},
   "outputs": [
    {
     "name": "stdout",
     "output_type": "stream",
     "text": [
      "CPU times: user 826 ms, sys: 61.5 ms, total: 887 ms\n",
      "Wall time: 5.1 s\n"
     ]
    }
   ],
   "source": [
    "%%time\n",
    "#try another one\n",
    "param_test1b = {\n",
    "    'min_child_weight':[6,8,10,12]\n",
    "}\n",
    "gsearch1b = GridSearchCV(estimator = XGBRegressor(booster='gbtree',\n",
    "                    objective= 'reg:linear',\n",
    "                    eval_metric='rmse',\n",
    "                    gamma = 0.1,\n",
    "                    min_child_weight= 1.1,\n",
    "                    max_depth= 7,\n",
    "                    subsample= 0.8,\n",
    "                    colsample_bytree= 0.8,\n",
    "                    tree_method= 'exact',\n",
    "                    learning_rate=0.1,\n",
    "                    n_estimators=100,\n",
    "                    nthread=4,\n",
    "                    scale_pos_weight=1,\n",
    "                    seed=27),\n",
    "                    param_grid = param_test1b, scoring='mean_squared_error',n_jobs=4,iid=False, cv=5)\n",
    "gsearch1b.fit(X_train,y_train)"
   ]
  },
  {
   "cell_type": "code",
   "execution_count": 59,
   "metadata": {},
   "outputs": [
    {
     "data": {
      "text/plain": [
       "([mean: -0.76121, std: 0.13833, params: {'min_child_weight': 6},\n",
       "  mean: -0.76389, std: 0.14727, params: {'min_child_weight': 8},\n",
       "  mean: -0.73145, std: 0.14099, params: {'min_child_weight': 10},\n",
       "  mean: -0.74546, std: 0.13577, params: {'min_child_weight': 12}],\n",
       " {'min_child_weight': 10},\n",
       " -0.7314454879291914)"
      ]
     },
     "execution_count": 59,
     "metadata": {},
     "output_type": "execute_result"
    }
   ],
   "source": [
    "gsearch1b.grid_scores_, gsearch1b.best_params_, gsearch1b.best_score_"
   ]
  },
  {
   "cell_type": "code",
   "execution_count": 60,
   "metadata": {},
   "outputs": [
    {
     "name": "stdout",
     "output_type": "stream",
     "text": [
      "CPU times: user 837 ms, sys: 61.5 ms, total: 899 ms\n",
      "Wall time: 6.07 s\n"
     ]
    }
   ],
   "source": [
    "%%time\n",
    "#gamma tuning\n",
    "param_test3 = {\n",
    "    'gamma':[i/10.0 for i in range(0,5)]\n",
    "}\n",
    "gsearch3 = GridSearchCV(estimator = XGBRegressor(booster='gbtree',\n",
    "                    objective= 'reg:linear',\n",
    "                    eval_metric='rmse',\n",
    "                    gamma = 0.1,\n",
    "                    min_child_weight= 10,\n",
    "                    max_depth= 7,\n",
    "                    subsample= 0.8,\n",
    "                    colsample_bytree= 0.8,\n",
    "                    tree_method= 'exact',\n",
    "                    learning_rate=0.1,\n",
    "                    n_estimators=100,\n",
    "                    nthread=4,\n",
    "                    scale_pos_weight=1,\n",
    "                    seed=27),\n",
    "                       param_grid = param_test3, scoring='mean_squared_error',n_jobs=4,iid=False, cv=5)\n",
    "gsearch3.fit(X_train,y_train)"
   ]
  },
  {
   "cell_type": "code",
   "execution_count": 61,
   "metadata": {},
   "outputs": [
    {
     "data": {
      "text/plain": [
       "([mean: -0.74424, std: 0.12212, params: {'gamma': 0.0},\n",
       "  mean: -0.73145, std: 0.14099, params: {'gamma': 0.1},\n",
       "  mean: -0.76799, std: 0.12489, params: {'gamma': 0.2},\n",
       "  mean: -0.76305, std: 0.12862, params: {'gamma': 0.3},\n",
       "  mean: -0.72498, std: 0.12775, params: {'gamma': 0.4}],\n",
       " {'gamma': 0.4},\n",
       " -0.7249840625383424)"
      ]
     },
     "execution_count": 61,
     "metadata": {},
     "output_type": "execute_result"
    }
   ],
   "source": [
    "gsearch3.grid_scores_, gsearch3.best_params_, gsearch3.best_score_"
   ]
  },
  {
   "cell_type": "code",
   "execution_count": 62,
   "metadata": {},
   "outputs": [
    {
     "name": "stdout",
     "output_type": "stream",
     "text": [
      "CPU times: user 983 ms, sys: 82 ms, total: 1.06 s\n",
      "Wall time: 16.9 s\n"
     ]
    }
   ],
   "source": [
    "%%time\n",
    "#subsample and colsample_bytree tuning\n",
    "param_test4 = {\n",
    "    'subsample':[i/10.0 for i in range(6,10)],\n",
    "    'colsample_bytree':[i/10.0 for i in range(6,10)]\n",
    "}\n",
    "gsearch4 = GridSearchCV(estimator = XGBRegressor(booster='gbtree',\n",
    "                    objective= 'reg:linear',\n",
    "                    eval_metric='rmse',\n",
    "                    gamma = 0.4,\n",
    "                    min_child_weight= 10,\n",
    "                    max_depth= 7,\n",
    "                    subsample= 0.8,\n",
    "                    colsample_bytree= 0.6,\n",
    "                    tree_method= 'exact',\n",
    "                    learning_rate=0.1,\n",
    "                    n_estimators=100,\n",
    "                    nthread=4,\n",
    "                    scale_pos_weight=1,\n",
    "                    seed=27),\n",
    "                       param_grid = param_test4, scoring='mean_squared_error',n_jobs=4,iid=False, cv=5)\n",
    "gsearch4.fit(X_train,y_train)"
   ]
  },
  {
   "cell_type": "code",
   "execution_count": 63,
   "metadata": {},
   "outputs": [
    {
     "data": {
      "text/plain": [
       "([mean: -0.72264, std: 0.12142, params: {'colsample_bytree': 0.6, 'subsample': 0.6},\n",
       "  mean: -0.73863, std: 0.14613, params: {'colsample_bytree': 0.6, 'subsample': 0.7},\n",
       "  mean: -0.74325, std: 0.13685, params: {'colsample_bytree': 0.6, 'subsample': 0.8},\n",
       "  mean: -0.70946, std: 0.12145, params: {'colsample_bytree': 0.6, 'subsample': 0.9},\n",
       "  mean: -0.72185, std: 0.13914, params: {'colsample_bytree': 0.7, 'subsample': 0.6},\n",
       "  mean: -0.74061, std: 0.15309, params: {'colsample_bytree': 0.7, 'subsample': 0.7},\n",
       "  mean: -0.74498, std: 0.14058, params: {'colsample_bytree': 0.7, 'subsample': 0.8},\n",
       "  mean: -0.73222, std: 0.13209, params: {'colsample_bytree': 0.7, 'subsample': 0.9},\n",
       "  mean: -0.70910, std: 0.12353, params: {'colsample_bytree': 0.8, 'subsample': 0.6},\n",
       "  mean: -0.71814, std: 0.12934, params: {'colsample_bytree': 0.8, 'subsample': 0.7},\n",
       "  mean: -0.72498, std: 0.12775, params: {'colsample_bytree': 0.8, 'subsample': 0.8},\n",
       "  mean: -0.73298, std: 0.12744, params: {'colsample_bytree': 0.8, 'subsample': 0.9},\n",
       "  mean: -0.72060, std: 0.10896, params: {'colsample_bytree': 0.9, 'subsample': 0.6},\n",
       "  mean: -0.73720, std: 0.15604, params: {'colsample_bytree': 0.9, 'subsample': 0.7},\n",
       "  mean: -0.73676, std: 0.12238, params: {'colsample_bytree': 0.9, 'subsample': 0.8},\n",
       "  mean: -0.70927, std: 0.12706, params: {'colsample_bytree': 0.9, 'subsample': 0.9}],\n",
       " {'colsample_bytree': 0.8, 'subsample': 0.6},\n",
       " -0.709101640725723)"
      ]
     },
     "execution_count": 63,
     "metadata": {},
     "output_type": "execute_result"
    }
   ],
   "source": [
    "gsearch4.grid_scores_, gsearch4.best_params_, gsearch4.best_score_"
   ]
  },
  {
   "cell_type": "code",
   "execution_count": 64,
   "metadata": {},
   "outputs": [
    {
     "name": "stdout",
     "output_type": "stream",
     "text": [
      "CPU times: user 672 ms, sys: 62.3 ms, total: 734 ms\n",
      "Wall time: 4.8 s\n"
     ]
    }
   ],
   "source": [
    "%%time\n",
    "#reg_alpha、reg_lambda rough tuning\n",
    "\n",
    "param_test6 = {\n",
    "    'reg_alpha':[1e-5, 1e-2, 0.1, 1, 100]\n",
    "}\n",
    "gsearch6 = GridSearchCV(estimator = XGBRegressor(booster='gbtree',\n",
    "                    objective= 'reg:linear',\n",
    "                    eval_metric='rmse',\n",
    "                    gamma = 0.4,\n",
    "                    min_child_weight= 10,\n",
    "                    max_depth= 7,\n",
    "                    subsample= 0.8,\n",
    "                    colsample_bytree= 0.6,\n",
    "                    tree_method= 'exact',\n",
    "                    learning_rate=0.1,\n",
    "                    n_estimators=100,\n",
    "                    nthread=4,\n",
    "                    scale_pos_weight=1,\n",
    "                    seed=27),\n",
    "                    param_grid = param_test6, scoring='mean_squared_error',n_jobs=4,iid=False, cv=5)\n",
    "gsearch6.fit(X_train,y_train)\n"
   ]
  },
  {
   "cell_type": "code",
   "execution_count": 65,
   "metadata": {},
   "outputs": [
    {
     "data": {
      "text/plain": [
       "([mean: -0.74325, std: 0.13685, params: {'reg_alpha': 1e-05},\n",
       "  mean: -0.73535, std: 0.13829, params: {'reg_alpha': 0.01},\n",
       "  mean: -0.74764, std: 0.11554, params: {'reg_alpha': 0.1},\n",
       "  mean: -0.71324, std: 0.15186, params: {'reg_alpha': 1},\n",
       "  mean: -1.23661, std: 0.19673, params: {'reg_alpha': 100}],\n",
       " {'reg_alpha': 1},\n",
       " -0.7132417001396024)"
      ]
     },
     "execution_count": 65,
     "metadata": {},
     "output_type": "execute_result"
    }
   ],
   "source": [
    "gsearch6.grid_scores_, gsearch6.best_params_, gsearch6.best_score_"
   ]
  },
  {
   "cell_type": "code",
   "execution_count": 66,
   "metadata": {},
   "outputs": [
    {
     "name": "stdout",
     "output_type": "stream",
     "text": [
      "CPU times: user 702 ms, sys: 60.8 ms, total: 763 ms\n",
      "Wall time: 4.64 s\n"
     ]
    }
   ],
   "source": [
    "%%time\n",
    "##reg_alpha、reg_lambda fine tuning\n",
    "param_test7 = {\n",
    "    'reg_alpha':[0, 0.001, 0.005, 0.01, 0.05]\n",
    "}\n",
    "gsearch7 = GridSearchCV(estimator = XGBRegressor(booster='gbtree',\n",
    "                    objective= 'reg:linear',\n",
    "                    eval_metric='rmse',\n",
    "                    gamma = 0.4,\n",
    "                    min_child_weight= 10,\n",
    "                    max_depth= 7,\n",
    "                    subsample= 0.8,\n",
    "                    colsample_bytree= 0.6,\n",
    "                    tree_method= 'exact',\n",
    "                    learning_rate=0.1,\n",
    "                    n_estimators=100,\n",
    "                    nthread=4,\n",
    "                    scale_pos_weight=1,\n",
    "                    seed=27),\n",
    "                       param_grid = param_test7, scoring='mean_squared_error',n_jobs=4,iid=False, cv=5)\n",
    "gsearch7.fit(X_train,y_train)"
   ]
  },
  {
   "cell_type": "code",
   "execution_count": 67,
   "metadata": {},
   "outputs": [
    {
     "data": {
      "text/plain": [
       "([mean: -0.74325, std: 0.13685, params: {'reg_alpha': 0},\n",
       "  mean: -0.74322, std: 0.13684, params: {'reg_alpha': 0.001},\n",
       "  mean: -0.75105, std: 0.13057, params: {'reg_alpha': 0.005},\n",
       "  mean: -0.73535, std: 0.13829, params: {'reg_alpha': 0.01},\n",
       "  mean: -0.73670, std: 0.13679, params: {'reg_alpha': 0.05}],\n",
       " {'reg_alpha': 0.01},\n",
       " -0.735347370058071)"
      ]
     },
     "execution_count": 67,
     "metadata": {},
     "output_type": "execute_result"
    }
   ],
   "source": [
    "gsearch7.grid_scores_, gsearch7.best_params_, gsearch7.best_score_"
   ]
  },
  {
   "cell_type": "code",
   "execution_count": 68,
   "metadata": {},
   "outputs": [
    {
     "name": "stdout",
     "output_type": "stream",
     "text": [
      "CPU times: user 2.91 s, sys: 78.8 ms, total: 2.99 s\n",
      "Wall time: 1min 3s\n"
     ]
    }
   ],
   "source": [
    "%%time\n",
    "#reduce learning_rate, increase n_estimators\n",
    "param_test9 = {\n",
    "    'n_estimators':[50, 100, 200, 500,1000],\n",
    "    'learning_rate':[0.001, 0.01, 0.05, 0.1,0.2]\n",
    "}\n",
    "gsearch9 = GridSearchCV(estimator = XGBRegressor(booster='gbtree',\n",
    "                    objective= 'reg:linear',\n",
    "                    eval_metric='rmse',\n",
    "                    gamma = 0.4,\n",
    "                    min_child_weight= 10,\n",
    "                    max_depth= 7,\n",
    "                    subsample= 0.8,\n",
    "                    colsample_bytree= 0.6,\n",
    "                    tree_method= 'exact',\n",
    "                    learning_rate=0.1,\n",
    "                    n_estimators=100,\n",
    "                    nthread=4,\n",
    "                    scale_pos_weight=1,\n",
    "                    reg_alpha=0.01,                           \n",
    "                    seed=27),\n",
    "                       param_grid = param_test9, scoring='mean_squared_error',n_jobs=4,iid=False, cv=5)\n",
    "gsearch9.fit(X_train,y_train)\n",
    "\n"
   ]
  },
  {
   "cell_type": "code",
   "execution_count": 69,
   "metadata": {},
   "outputs": [
    {
     "data": {
      "text/plain": [
       "([mean: -7.59732, std: 0.44923, params: {'learning_rate': 0.001, 'n_estimators': 50},\n",
       "  mean: -6.94856, std: 0.42006, params: {'learning_rate': 0.001, 'n_estimators': 100},\n",
       "  mean: -5.82811, std: 0.36739, params: {'learning_rate': 0.001, 'n_estimators': 200},\n",
       "  mean: -3.52629, std: 0.24897, params: {'learning_rate': 0.001, 'n_estimators': 500},\n",
       "  mean: -1.73238, std: 0.14353, params: {'learning_rate': 0.001, 'n_estimators': 1000},\n",
       "  mean: -3.50692, std: 0.24124, params: {'learning_rate': 0.01, 'n_estimators': 50},\n",
       "  mean: -1.72382, std: 0.13514, params: {'learning_rate': 0.01, 'n_estimators': 100},\n",
       "  mean: -0.79212, std: 0.10785, params: {'learning_rate': 0.01, 'n_estimators': 200},\n",
       "  mean: -0.66393, std: 0.12769, params: {'learning_rate': 0.01, 'n_estimators': 500},\n",
       "  mean: -0.70632, std: 0.13441, params: {'learning_rate': 0.01, 'n_estimators': 1000},\n",
       "  mean: -0.69037, std: 0.11839, params: {'learning_rate': 0.05, 'n_estimators': 50},\n",
       "  mean: -0.67685, std: 0.13096, params: {'learning_rate': 0.05, 'n_estimators': 100},\n",
       "  mean: -0.71721, std: 0.13242, params: {'learning_rate': 0.05, 'n_estimators': 200},\n",
       "  mean: -0.74413, std: 0.13027, params: {'learning_rate': 0.05, 'n_estimators': 500},\n",
       "  mean: -0.75460, std: 0.13017, params: {'learning_rate': 0.05, 'n_estimators': 1000},\n",
       "  mean: -0.69668, std: 0.12919, params: {'learning_rate': 0.1, 'n_estimators': 50},\n",
       "  mean: -0.73535, std: 0.13829, params: {'learning_rate': 0.1, 'n_estimators': 100},\n",
       "  mean: -0.75353, std: 0.14043, params: {'learning_rate': 0.1, 'n_estimators': 200},\n",
       "  mean: -0.76911, std: 0.14456, params: {'learning_rate': 0.1, 'n_estimators': 500},\n",
       "  mean: -0.77553, std: 0.14402, params: {'learning_rate': 0.1, 'n_estimators': 1000},\n",
       "  mean: -0.75912, std: 0.13261, params: {'learning_rate': 0.2, 'n_estimators': 50},\n",
       "  mean: -0.78272, std: 0.13158, params: {'learning_rate': 0.2, 'n_estimators': 100},\n",
       "  mean: -0.80295, std: 0.13253, params: {'learning_rate': 0.2, 'n_estimators': 200},\n",
       "  mean: -0.81247, std: 0.12769, params: {'learning_rate': 0.2, 'n_estimators': 500},\n",
       "  mean: -0.81374, std: 0.12227, params: {'learning_rate': 0.2, 'n_estimators': 1000}],\n",
       " {'learning_rate': 0.01, 'n_estimators': 500},\n",
       " -0.6639286281047992)"
      ]
     },
     "execution_count": 69,
     "metadata": {},
     "output_type": "execute_result"
    }
   ],
   "source": [
    "gsearch9.grid_scores_, gsearch9.best_params_, gsearch9.best_score_"
   ]
  },
  {
   "cell_type": "code",
   "execution_count": 52,
   "metadata": {},
   "outputs": [],
   "source": [
    "xgb9 = XGBRegressor(booster='gbtree',\n",
    "                    objective= 'reg:linear',\n",
    "                    eval_metric='rmse',\n",
    "                    gamma = 0.4,\n",
    "                    min_child_weight= 10,\n",
    "                    max_depth= 7,\n",
    "                    subsample= 0.8,\n",
    "                    colsample_bytree= 0.6,\n",
    "                    tree_method= 'exact',\n",
    "                    learning_rate=0.01,\n",
    "                    n_estimators=500,\n",
    "                    nthread=4,\n",
    "                    scale_pos_weight=1,\n",
    "                    reg_alpha=0.05,                           \n",
    "                    seed=27)"
   ]
  },
  {
   "cell_type": "code",
   "execution_count": 53,
   "metadata": {},
   "outputs": [
    {
     "data": {
      "text/plain": [
       "XGBRegressor(base_score=0.5, booster='gbtree', colsample_bylevel=1,\n",
       "       colsample_bytree=0.6, eval_metric='rmse', gamma=0.4,\n",
       "       learning_rate=0.01, max_delta_step=0, max_depth=7,\n",
       "       min_child_weight=10, missing=None, n_estimators=500, n_jobs=1,\n",
       "       nthread=4, objective='reg:linear', random_state=0, reg_alpha=0.05,\n",
       "       reg_lambda=1, scale_pos_weight=1, seed=27, silent=True,\n",
       "       subsample=0.8, tree_method='exact')"
      ]
     },
     "execution_count": 53,
     "metadata": {},
     "output_type": "execute_result"
    }
   ],
   "source": [
    "xgb9.fit(X_train,y_train)"
   ]
  },
  {
   "cell_type": "code",
   "execution_count": 54,
   "metadata": {},
   "outputs": [
    {
     "data": {
      "text/plain": [
       "0.7442509524551613"
      ]
     },
     "execution_count": 54,
     "metadata": {},
     "output_type": "execute_result"
    }
   ],
   "source": [
    "sqrt(mean_squared_error(xgb9.predict(X_test),y_test))"
   ]
  },
  {
   "cell_type": "code",
   "execution_count": 55,
   "metadata": {},
   "outputs": [
    {
     "data": {
      "text/plain": [
       "<matplotlib.axes._subplots.AxesSubplot at 0x1a1a12a198>"
      ]
     },
     "execution_count": 55,
     "metadata": {},
     "output_type": "execute_result"
    },
    {
     "data": {
      "image/png": "[encoded data removed]",
      "text/plain": [
       "<Figure size 576x936 with 1 Axes>"
      ]
     },
     "metadata": {},
     "output_type": "display_data"
    }
   ],
   "source": [
    "fig, ax = plt.subplots(1, 1, figsize=(8, 13))\n",
    "xgb.plot_importance(xgb9, max_num_features=20, height=0.5, ax=ax)"
   ]
  }
 ],
 "metadata": {
  "kernelspec": {
   "display_name": "Python 3",
   "language": "python",
   "name": "python3"
  },
  "language_info": {
   "codemirror_mode": {
    "name": "ipython",
    "version": 3
   },
   "file_extension": ".py",
   "mimetype": "text/x-python",
   "name": "python",
   "nbconvert_exporter": "python",
   "pygments_lexer": "ipython3",
   "version": "3.6.4"
  }
 },
 "nbformat": 4,
 "nbformat_minor": 2
}
